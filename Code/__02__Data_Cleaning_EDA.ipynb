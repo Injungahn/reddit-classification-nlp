{
 "cells": [
  {
   "cell_type": "code",
   "execution_count": 1,
   "id": "9163e489-817c-451b-9f8c-9a5584630063",
   "metadata": {},
   "outputs": [],
   "source": [
    "import numpy as np\n",
    "import pandas as pd\n",
    "import matplotlib.pyplot as plt\n",
    "import seaborn as sns\n",
    "\n",
    "import re"
   ]
  },
  {
   "cell_type": "code",
   "execution_count": 2,
   "id": "87c64df4-cbec-4704-95a5-c8cfa82b719d",
   "metadata": {},
   "outputs": [],
   "source": [
    "men_df = pd.read_csv('../Data/askmen_posts.csv')\n",
    "women_df = pd.read_csv('../Data/askwomen_posts.csv')"
   ]
  },
  {
   "cell_type": "code",
   "execution_count": 3,
   "id": "ad136227-ce7d-422c-995d-749a685f523a",
   "metadata": {
    "tags": []
   },
   "outputs": [
    {
     "data": {
      "text/html": [
       "<div>\n",
       "<style scoped>\n",
       "    .dataframe tbody tr th:only-of-type {\n",
       "        vertical-align: middle;\n",
       "    }\n",
       "\n",
       "    .dataframe tbody tr th {\n",
       "        vertical-align: top;\n",
       "    }\n",
       "\n",
       "    .dataframe thead th {\n",
       "        text-align: right;\n",
       "    }\n",
       "</style>\n",
       "<table border=\"1\" class=\"dataframe\">\n",
       "  <thead>\n",
       "    <tr style=\"text-align: right;\">\n",
       "      <th></th>\n",
       "      <th>Unnamed: 0</th>\n",
       "      <th>id</th>\n",
       "      <th>title</th>\n",
       "      <th>text</th>\n",
       "      <th>created_utc</th>\n",
       "      <th>url</th>\n",
       "      <th>subreddit</th>\n",
       "    </tr>\n",
       "  </thead>\n",
       "  <tbody>\n",
       "    <tr>\n",
       "      <th>0</th>\n",
       "      <td>0</td>\n",
       "      <td>xv4eg7</td>\n",
       "      <td>How do you guys feel about people who cheat on...</td>\n",
       "      <td>NaN</td>\n",
       "      <td>1664854885</td>\n",
       "      <td>https://www.reddit.com/r/AskMen/comments/xv4eg...</td>\n",
       "      <td>askmen</td>\n",
       "    </tr>\n",
       "    <tr>\n",
       "      <th>1</th>\n",
       "      <td>1</td>\n",
       "      <td>xv4dlk</td>\n",
       "      <td>Why is it so hard to a beat porn addiction?</td>\n",
       "      <td>NaN</td>\n",
       "      <td>1664854820</td>\n",
       "      <td>https://www.reddit.com/r/AskMen/comments/xv4dl...</td>\n",
       "      <td>askmen</td>\n",
       "    </tr>\n",
       "    <tr>\n",
       "      <th>2</th>\n",
       "      <td>2</td>\n",
       "      <td>xv457n</td>\n",
       "      <td>How often have you assumed that a women is fli...</td>\n",
       "      <td>NaN</td>\n",
       "      <td>1664854133</td>\n",
       "      <td>https://www.reddit.com/r/AskMen/comments/xv457...</td>\n",
       "      <td>askmen</td>\n",
       "    </tr>\n",
       "    <tr>\n",
       "      <th>3</th>\n",
       "      <td>3</td>\n",
       "      <td>xv431v</td>\n",
       "      <td>What are good goals to have if you’re trying t...</td>\n",
       "      <td>I’m in my mid 20’s, just ended a relationship ...</td>\n",
       "      <td>1664853953</td>\n",
       "      <td>https://www.reddit.com/r/AskMen/comments/xv431...</td>\n",
       "      <td>askmen</td>\n",
       "    </tr>\n",
       "    <tr>\n",
       "      <th>4</th>\n",
       "      <td>4</td>\n",
       "      <td>xv3ta4</td>\n",
       "      <td>How do I know if I'm being a pushover or not?</td>\n",
       "      <td>I'm a male 27 and sometimes I find myself in s...</td>\n",
       "      <td>1664853169</td>\n",
       "      <td>https://www.reddit.com/r/AskMen/comments/xv3ta...</td>\n",
       "      <td>askmen</td>\n",
       "    </tr>\n",
       "  </tbody>\n",
       "</table>\n",
       "</div>"
      ],
      "text/plain": [
       "   Unnamed: 0      id                                              title  \\\n",
       "0           0  xv4eg7  How do you guys feel about people who cheat on...   \n",
       "1           1  xv4dlk        Why is it so hard to a beat porn addiction?   \n",
       "2           2  xv457n  How often have you assumed that a women is fli...   \n",
       "3           3  xv431v  What are good goals to have if you’re trying t...   \n",
       "4           4  xv3ta4      How do I know if I'm being a pushover or not?   \n",
       "\n",
       "                                                text  created_utc  \\\n",
       "0                                                NaN   1664854885   \n",
       "1                                                NaN   1664854820   \n",
       "2                                                NaN   1664854133   \n",
       "3  I’m in my mid 20’s, just ended a relationship ...   1664853953   \n",
       "4  I'm a male 27 and sometimes I find myself in s...   1664853169   \n",
       "\n",
       "                                                 url subreddit  \n",
       "0  https://www.reddit.com/r/AskMen/comments/xv4eg...    askmen  \n",
       "1  https://www.reddit.com/r/AskMen/comments/xv4dl...    askmen  \n",
       "2  https://www.reddit.com/r/AskMen/comments/xv457...    askmen  \n",
       "3  https://www.reddit.com/r/AskMen/comments/xv431...    askmen  \n",
       "4  https://www.reddit.com/r/AskMen/comments/xv3ta...    askmen  "
      ]
     },
     "execution_count": 3,
     "metadata": {},
     "output_type": "execute_result"
    }
   ],
   "source": [
    "men_df.head()"
   ]
  },
  {
   "cell_type": "code",
   "execution_count": 4,
   "id": "486dcbad-7b81-4bc7-8abe-520dfca261d4",
   "metadata": {
    "tags": []
   },
   "outputs": [
    {
     "data": {
      "text/html": [
       "<div>\n",
       "<style scoped>\n",
       "    .dataframe tbody tr th:only-of-type {\n",
       "        vertical-align: middle;\n",
       "    }\n",
       "\n",
       "    .dataframe tbody tr th {\n",
       "        vertical-align: top;\n",
       "    }\n",
       "\n",
       "    .dataframe thead th {\n",
       "        text-align: right;\n",
       "    }\n",
       "</style>\n",
       "<table border=\"1\" class=\"dataframe\">\n",
       "  <thead>\n",
       "    <tr style=\"text-align: right;\">\n",
       "      <th></th>\n",
       "      <th>Unnamed: 0</th>\n",
       "      <th>id</th>\n",
       "      <th>title</th>\n",
       "      <th>text</th>\n",
       "      <th>created_utc</th>\n",
       "      <th>url</th>\n",
       "      <th>subreddit</th>\n",
       "    </tr>\n",
       "  </thead>\n",
       "  <tbody>\n",
       "    <tr>\n",
       "      <th>0</th>\n",
       "      <td>0</td>\n",
       "      <td>xv4bb9</td>\n",
       "      <td>How is the best way to pleasure a women?</td>\n",
       "      <td>NaN</td>\n",
       "      <td>1664854629</td>\n",
       "      <td>https://www.reddit.com/r/AskWomen/comments/xv4...</td>\n",
       "      <td>askwomen</td>\n",
       "    </tr>\n",
       "    <tr>\n",
       "      <th>1</th>\n",
       "      <td>1</td>\n",
       "      <td>xv3c2t</td>\n",
       "      <td>Ladies, how often or how long do you look in t...</td>\n",
       "      <td>NaN</td>\n",
       "      <td>1664851831</td>\n",
       "      <td>https://www.reddit.com/r/AskWomen/comments/xv3...</td>\n",
       "      <td>askwomen</td>\n",
       "    </tr>\n",
       "    <tr>\n",
       "      <th>2</th>\n",
       "      <td>2</td>\n",
       "      <td>xv38q8</td>\n",
       "      <td>What is the telltale sign that someone is a sn...</td>\n",
       "      <td>NaN</td>\n",
       "      <td>1664851567</td>\n",
       "      <td>https://www.reddit.com/r/AskWomen/comments/xv3...</td>\n",
       "      <td>askwomen</td>\n",
       "    </tr>\n",
       "    <tr>\n",
       "      <th>3</th>\n",
       "      <td>3</td>\n",
       "      <td>xv2vfm</td>\n",
       "      <td>What do you do to support your SO/make their l...</td>\n",
       "      <td>NaN</td>\n",
       "      <td>1664850535</td>\n",
       "      <td>https://www.reddit.com/r/AskWomen/comments/xv2...</td>\n",
       "      <td>askwomen</td>\n",
       "    </tr>\n",
       "    <tr>\n",
       "      <th>4</th>\n",
       "      <td>4</td>\n",
       "      <td>xv2nlj</td>\n",
       "      <td>What Is a music Opinion you have that will hav...</td>\n",
       "      <td>NaN</td>\n",
       "      <td>1664849934</td>\n",
       "      <td>https://www.reddit.com/r/AskWomen/comments/xv2...</td>\n",
       "      <td>askwomen</td>\n",
       "    </tr>\n",
       "  </tbody>\n",
       "</table>\n",
       "</div>"
      ],
      "text/plain": [
       "   Unnamed: 0      id                                              title text  \\\n",
       "0           0  xv4bb9           How is the best way to pleasure a women?  NaN   \n",
       "1           1  xv3c2t  Ladies, how often or how long do you look in t...  NaN   \n",
       "2           2  xv38q8  What is the telltale sign that someone is a sn...  NaN   \n",
       "3           3  xv2vfm  What do you do to support your SO/make their l...  NaN   \n",
       "4           4  xv2nlj  What Is a music Opinion you have that will hav...  NaN   \n",
       "\n",
       "   created_utc                                                url subreddit  \n",
       "0   1664854629  https://www.reddit.com/r/AskWomen/comments/xv4...  askwomen  \n",
       "1   1664851831  https://www.reddit.com/r/AskWomen/comments/xv3...  askwomen  \n",
       "2   1664851567  https://www.reddit.com/r/AskWomen/comments/xv3...  askwomen  \n",
       "3   1664850535  https://www.reddit.com/r/AskWomen/comments/xv2...  askwomen  \n",
       "4   1664849934  https://www.reddit.com/r/AskWomen/comments/xv2...  askwomen  "
      ]
     },
     "execution_count": 4,
     "metadata": {},
     "output_type": "execute_result"
    }
   ],
   "source": [
    "women_df.head()"
   ]
  },
  {
   "cell_type": "code",
   "execution_count": 5,
   "id": "31e58a05-bbc0-4a70-b72d-8a111e565f51",
   "metadata": {},
   "outputs": [
    {
     "name": "stdout",
     "output_type": "stream",
     "text": [
      "(4104, 7)\n"
     ]
    }
   ],
   "source": [
    "# Concatening dataframes\n",
    "\n",
    "df = pd.concat([women_df, men_df])\n",
    "print(df.shape)"
   ]
  },
  {
   "cell_type": "code",
   "execution_count": 6,
   "id": "21f78bc5-693a-4e1e-83bd-371baa162f09",
   "metadata": {
    "tags": []
   },
   "outputs": [
    {
     "data": {
      "text/html": [
       "<div>\n",
       "<style scoped>\n",
       "    .dataframe tbody tr th:only-of-type {\n",
       "        vertical-align: middle;\n",
       "    }\n",
       "\n",
       "    .dataframe tbody tr th {\n",
       "        vertical-align: top;\n",
       "    }\n",
       "\n",
       "    .dataframe thead th {\n",
       "        text-align: right;\n",
       "    }\n",
       "</style>\n",
       "<table border=\"1\" class=\"dataframe\">\n",
       "  <thead>\n",
       "    <tr style=\"text-align: right;\">\n",
       "      <th></th>\n",
       "      <th>Unnamed: 0</th>\n",
       "      <th>id</th>\n",
       "      <th>title</th>\n",
       "      <th>text</th>\n",
       "      <th>created_utc</th>\n",
       "      <th>url</th>\n",
       "      <th>subreddit</th>\n",
       "    </tr>\n",
       "  </thead>\n",
       "  <tbody>\n",
       "    <tr>\n",
       "      <th>0</th>\n",
       "      <td>0</td>\n",
       "      <td>xv4bb9</td>\n",
       "      <td>How is the best way to pleasure a women?</td>\n",
       "      <td>NaN</td>\n",
       "      <td>1664854629</td>\n",
       "      <td>https://www.reddit.com/r/AskWomen/comments/xv4...</td>\n",
       "      <td>askwomen</td>\n",
       "    </tr>\n",
       "    <tr>\n",
       "      <th>1</th>\n",
       "      <td>1</td>\n",
       "      <td>xv3c2t</td>\n",
       "      <td>Ladies, how often or how long do you look in t...</td>\n",
       "      <td>NaN</td>\n",
       "      <td>1664851831</td>\n",
       "      <td>https://www.reddit.com/r/AskWomen/comments/xv3...</td>\n",
       "      <td>askwomen</td>\n",
       "    </tr>\n",
       "    <tr>\n",
       "      <th>2</th>\n",
       "      <td>2</td>\n",
       "      <td>xv38q8</td>\n",
       "      <td>What is the telltale sign that someone is a sn...</td>\n",
       "      <td>NaN</td>\n",
       "      <td>1664851567</td>\n",
       "      <td>https://www.reddit.com/r/AskWomen/comments/xv3...</td>\n",
       "      <td>askwomen</td>\n",
       "    </tr>\n",
       "    <tr>\n",
       "      <th>3</th>\n",
       "      <td>3</td>\n",
       "      <td>xv2vfm</td>\n",
       "      <td>What do you do to support your SO/make their l...</td>\n",
       "      <td>NaN</td>\n",
       "      <td>1664850535</td>\n",
       "      <td>https://www.reddit.com/r/AskWomen/comments/xv2...</td>\n",
       "      <td>askwomen</td>\n",
       "    </tr>\n",
       "    <tr>\n",
       "      <th>4</th>\n",
       "      <td>4</td>\n",
       "      <td>xv2nlj</td>\n",
       "      <td>What Is a music Opinion you have that will hav...</td>\n",
       "      <td>NaN</td>\n",
       "      <td>1664849934</td>\n",
       "      <td>https://www.reddit.com/r/AskWomen/comments/xv2...</td>\n",
       "      <td>askwomen</td>\n",
       "    </tr>\n",
       "  </tbody>\n",
       "</table>\n",
       "</div>"
      ],
      "text/plain": [
       "   Unnamed: 0      id                                              title text  \\\n",
       "0           0  xv4bb9           How is the best way to pleasure a women?  NaN   \n",
       "1           1  xv3c2t  Ladies, how often or how long do you look in t...  NaN   \n",
       "2           2  xv38q8  What is the telltale sign that someone is a sn...  NaN   \n",
       "3           3  xv2vfm  What do you do to support your SO/make their l...  NaN   \n",
       "4           4  xv2nlj  What Is a music Opinion you have that will hav...  NaN   \n",
       "\n",
       "   created_utc                                                url subreddit  \n",
       "0   1664854629  https://www.reddit.com/r/AskWomen/comments/xv4...  askwomen  \n",
       "1   1664851831  https://www.reddit.com/r/AskWomen/comments/xv3...  askwomen  \n",
       "2   1664851567  https://www.reddit.com/r/AskWomen/comments/xv3...  askwomen  \n",
       "3   1664850535  https://www.reddit.com/r/AskWomen/comments/xv2...  askwomen  \n",
       "4   1664849934  https://www.reddit.com/r/AskWomen/comments/xv2...  askwomen  "
      ]
     },
     "execution_count": 6,
     "metadata": {},
     "output_type": "execute_result"
    }
   ],
   "source": [
    "df.head()"
   ]
  },
  {
   "cell_type": "code",
   "execution_count": 7,
   "id": "bc34696d-d830-4513-a9c2-3da0bee68b91",
   "metadata": {},
   "outputs": [
    {
     "name": "stdout",
     "output_type": "stream",
     "text": [
      "<class 'pandas.core.frame.DataFrame'>\n",
      "Int64Index: 4104 entries, 0 to 2062\n",
      "Data columns (total 7 columns):\n",
      " #   Column       Non-Null Count  Dtype \n",
      "---  ------       --------------  ----- \n",
      " 0   Unnamed: 0   4104 non-null   int64 \n",
      " 1   id           4104 non-null   object\n",
      " 2   title        4104 non-null   object\n",
      " 3   text         1222 non-null   object\n",
      " 4   created_utc  4104 non-null   int64 \n",
      " 5   url          4104 non-null   object\n",
      " 6   subreddit    4104 non-null   object\n",
      "dtypes: int64(2), object(5)\n",
      "memory usage: 256.5+ KB\n"
     ]
    }
   ],
   "source": [
    "df.info()"
   ]
  },
  {
   "cell_type": "code",
   "execution_count": 8,
   "id": "98d5bce9-7856-4719-a1ef-e461897b6c16",
   "metadata": {},
   "outputs": [],
   "source": [
    "#Dropping useless columns\n",
    "\n",
    "df.drop(columns=['created_utc', 'Unnamed: 0','url'], inplace = True)"
   ]
  },
  {
   "cell_type": "code",
   "execution_count": 9,
   "id": "9e1db2d0-b766-45ce-b8c6-88bf75ad218d",
   "metadata": {},
   "outputs": [
    {
     "data": {
      "text/html": [
       "<div>\n",
       "<style scoped>\n",
       "    .dataframe tbody tr th:only-of-type {\n",
       "        vertical-align: middle;\n",
       "    }\n",
       "\n",
       "    .dataframe tbody tr th {\n",
       "        vertical-align: top;\n",
       "    }\n",
       "\n",
       "    .dataframe thead th {\n",
       "        text-align: right;\n",
       "    }\n",
       "</style>\n",
       "<table border=\"1\" class=\"dataframe\">\n",
       "  <thead>\n",
       "    <tr style=\"text-align: right;\">\n",
       "      <th></th>\n",
       "      <th>id</th>\n",
       "      <th>title</th>\n",
       "      <th>text</th>\n",
       "      <th>subreddit</th>\n",
       "    </tr>\n",
       "  </thead>\n",
       "  <tbody>\n",
       "    <tr>\n",
       "      <th>0</th>\n",
       "      <td>xv4bb9</td>\n",
       "      <td>how is the best way to pleasure a women?</td>\n",
       "      <td>nan</td>\n",
       "      <td>askwomen</td>\n",
       "    </tr>\n",
       "    <tr>\n",
       "      <th>1</th>\n",
       "      <td>xv3c2t</td>\n",
       "      <td>ladies, how often or how long do you look in t...</td>\n",
       "      <td>nan</td>\n",
       "      <td>askwomen</td>\n",
       "    </tr>\n",
       "    <tr>\n",
       "      <th>2</th>\n",
       "      <td>xv38q8</td>\n",
       "      <td>what is the telltale sign that someone is a sn...</td>\n",
       "      <td>nan</td>\n",
       "      <td>askwomen</td>\n",
       "    </tr>\n",
       "    <tr>\n",
       "      <th>3</th>\n",
       "      <td>xv2vfm</td>\n",
       "      <td>what do you do to support your so/make their l...</td>\n",
       "      <td>nan</td>\n",
       "      <td>askwomen</td>\n",
       "    </tr>\n",
       "    <tr>\n",
       "      <th>4</th>\n",
       "      <td>xv2nlj</td>\n",
       "      <td>what is a music opinion you have that will hav...</td>\n",
       "      <td>nan</td>\n",
       "      <td>askwomen</td>\n",
       "    </tr>\n",
       "  </tbody>\n",
       "</table>\n",
       "</div>"
      ],
      "text/plain": [
       "       id                                              title text subreddit\n",
       "0  xv4bb9           how is the best way to pleasure a women?  nan  askwomen\n",
       "1  xv3c2t  ladies, how often or how long do you look in t...  nan  askwomen\n",
       "2  xv38q8  what is the telltale sign that someone is a sn...  nan  askwomen\n",
       "3  xv2vfm  what do you do to support your so/make their l...  nan  askwomen\n",
       "4  xv2nlj  what is a music opinion you have that will hav...  nan  askwomen"
      ]
     },
     "execution_count": 9,
     "metadata": {},
     "output_type": "execute_result"
    }
   ],
   "source": [
    "# Remove lower case things\n",
    "df['title'] = df['title'].apply(lambda x: x.lower().strip())\n",
    "df['text'] = df['text'].apply(lambda x: str(x).lower().strip())\n",
    "df.head()"
   ]
  },
  {
   "cell_type": "markdown",
   "id": "d5b577cb-1ba5-4bcc-a189-df075c5140c3",
   "metadata": {},
   "source": [
    "---"
   ]
  },
  {
   "cell_type": "markdown",
   "id": "7d631bee-8a65-481a-bfcf-d213af786f17",
   "metadata": {},
   "source": [
    "# Removing Extraneous Terms"
   ]
  },
  {
   "cell_type": "code",
   "execution_count": 10,
   "id": "1f8dc164-e491-4018-af15-a53c64b51c40",
   "metadata": {},
   "outputs": [
    {
     "data": {
      "text/html": [
       "<div>\n",
       "<style scoped>\n",
       "    .dataframe tbody tr th:only-of-type {\n",
       "        vertical-align: middle;\n",
       "    }\n",
       "\n",
       "    .dataframe tbody tr th {\n",
       "        vertical-align: top;\n",
       "    }\n",
       "\n",
       "    .dataframe thead th {\n",
       "        text-align: right;\n",
       "    }\n",
       "</style>\n",
       "<table border=\"1\" class=\"dataframe\">\n",
       "  <thead>\n",
       "    <tr style=\"text-align: right;\">\n",
       "      <th></th>\n",
       "      <th>title</th>\n",
       "      <th>text</th>\n",
       "    </tr>\n",
       "  </thead>\n",
       "  <tbody>\n",
       "    <tr>\n",
       "      <th>72</th>\n",
       "      <td>mate free monday</td>\n",
       "      <td>due to [popular demand](https://www.reddit.com...</td>\n",
       "    </tr>\n",
       "    <tr>\n",
       "      <th>576</th>\n",
       "      <td>mate free monday</td>\n",
       "      <td>due to [popular demand](https://www.reddit.com...</td>\n",
       "    </tr>\n",
       "    <tr>\n",
       "      <th>1081</th>\n",
       "      <td>mate free monday</td>\n",
       "      <td>due to [popular demand](https://www.reddit.com...</td>\n",
       "    </tr>\n",
       "    <tr>\n",
       "      <th>1616</th>\n",
       "      <td>mate free monday</td>\n",
       "      <td>due to [popular demand](https://www.reddit.com...</td>\n",
       "    </tr>\n",
       "    <tr>\n",
       "      <th>85</th>\n",
       "      <td>how much body odor is too much body odor?</td>\n",
       "      <td>note: i'm european, thus very [sophisticated](...</td>\n",
       "    </tr>\n",
       "    <tr>\n",
       "      <th>510</th>\n",
       "      <td>men, what’s a good beard trimmer that has vari...</td>\n",
       "      <td>is there a beard trimmer out there that has va...</td>\n",
       "    </tr>\n",
       "    <tr>\n",
       "      <th>923</th>\n",
       "      <td>fellow men, what shoes is this model wearing?</td>\n",
       "      <td>https://i0.wp.com/www.theunstitchd.com/wp-cont...</td>\n",
       "    </tr>\n",
       "  </tbody>\n",
       "</table>\n",
       "</div>"
      ],
      "text/plain": [
       "                                                  title  \\\n",
       "72                                     mate free monday   \n",
       "576                                    mate free monday   \n",
       "1081                                   mate free monday   \n",
       "1616                                   mate free monday   \n",
       "85            how much body odor is too much body odor?   \n",
       "510   men, what’s a good beard trimmer that has vari...   \n",
       "923       fellow men, what shoes is this model wearing?   \n",
       "\n",
       "                                                   text  \n",
       "72    due to [popular demand](https://www.reddit.com...  \n",
       "576   due to [popular demand](https://www.reddit.com...  \n",
       "1081  due to [popular demand](https://www.reddit.com...  \n",
       "1616  due to [popular demand](https://www.reddit.com...  \n",
       "85    note: i'm european, thus very [sophisticated](...  \n",
       "510   is there a beard trimmer out there that has va...  \n",
       "923   https://i0.wp.com/www.theunstitchd.com/wp-cont...  "
      ]
     },
     "execution_count": 10,
     "metadata": {},
     "output_type": "execute_result"
    }
   ],
   "source": [
    "# Checking if there are any hyperlinks \n",
    "\n",
    "df[df['text'].str.contains('www')][['title', 'text']]"
   ]
  },
  {
   "cell_type": "code",
   "execution_count": 11,
   "id": "f6bcea48-a91e-4c24-9200-d8e44caf8ea1",
   "metadata": {},
   "outputs": [],
   "source": [
    "#Removing substrings that are links\n",
    "\n",
    "df['text'] = df['text'].apply(lambda x: re.sub(r'.*www.*', ' ', x))"
   ]
  },
  {
   "cell_type": "code",
   "execution_count": 12,
   "id": "5f7abfc3-c4cf-4b3e-a6b9-7a6626128d47",
   "metadata": {
    "tags": []
   },
   "outputs": [
    {
     "data": {
      "text/html": [
       "<div>\n",
       "<style scoped>\n",
       "    .dataframe tbody tr th:only-of-type {\n",
       "        vertical-align: middle;\n",
       "    }\n",
       "\n",
       "    .dataframe tbody tr th {\n",
       "        vertical-align: top;\n",
       "    }\n",
       "\n",
       "    .dataframe thead th {\n",
       "        text-align: right;\n",
       "    }\n",
       "</style>\n",
       "<table border=\"1\" class=\"dataframe\">\n",
       "  <thead>\n",
       "    <tr style=\"text-align: right;\">\n",
       "      <th></th>\n",
       "      <th>title</th>\n",
       "      <th>text</th>\n",
       "    </tr>\n",
       "  </thead>\n",
       "  <tbody>\n",
       "    <tr>\n",
       "      <th>72</th>\n",
       "      <td>mate free monday</td>\n",
       "      <td>\\n\\nexamples of things we'll remove:\\n\\n* wha...</td>\n",
       "    </tr>\n",
       "    <tr>\n",
       "      <th>308</th>\n",
       "      <td>casual convo fridays</td>\n",
       "      <td>every friday, just say whatever is in your min...</td>\n",
       "    </tr>\n",
       "    <tr>\n",
       "      <th>369</th>\n",
       "      <td>happy thersday!</td>\n",
       "      <td>thersday is a day for questions focusing on wo...</td>\n",
       "    </tr>\n",
       "    <tr>\n",
       "      <th>576</th>\n",
       "      <td>mate free monday</td>\n",
       "      <td>\\n\\nexamples of things we'll remove:\\n\\n* wha...</td>\n",
       "    </tr>\n",
       "    <tr>\n",
       "      <th>781</th>\n",
       "      <td>casual convo fridays</td>\n",
       "      <td>every friday, just say whatever is in your min...</td>\n",
       "    </tr>\n",
       "    <tr>\n",
       "      <th>867</th>\n",
       "      <td>happy thersday!</td>\n",
       "      <td>thersday is a day for questions focusing on wo...</td>\n",
       "    </tr>\n",
       "    <tr>\n",
       "      <th>1081</th>\n",
       "      <td>mate free monday</td>\n",
       "      <td>\\n\\nexamples of things we'll remove:\\n\\n* wha...</td>\n",
       "    </tr>\n",
       "    <tr>\n",
       "      <th>1326</th>\n",
       "      <td>casual convo fridays</td>\n",
       "      <td>every friday, just say whatever is in your min...</td>\n",
       "    </tr>\n",
       "    <tr>\n",
       "      <th>1402</th>\n",
       "      <td>happy thersday!</td>\n",
       "      <td>thersday is a day for questions focusing on wo...</td>\n",
       "    </tr>\n",
       "    <tr>\n",
       "      <th>1616</th>\n",
       "      <td>mate free monday</td>\n",
       "      <td>\\n\\nexamples of things we'll remove:\\n\\n* wha...</td>\n",
       "    </tr>\n",
       "    <tr>\n",
       "      <th>1867</th>\n",
       "      <td>casual convo fridays</td>\n",
       "      <td>every friday, just say whatever is in your min...</td>\n",
       "    </tr>\n",
       "    <tr>\n",
       "      <th>1927</th>\n",
       "      <td>happy thersday!</td>\n",
       "      <td>thersday is a day for questions focusing on wo...</td>\n",
       "    </tr>\n",
       "  </tbody>\n",
       "</table>\n",
       "</div>"
      ],
      "text/plain": [
       "                     title                                               text\n",
       "72        mate free monday   \\n\\nexamples of things we'll remove:\\n\\n* wha...\n",
       "308   casual convo fridays  every friday, just say whatever is in your min...\n",
       "369        happy thersday!  thersday is a day for questions focusing on wo...\n",
       "576       mate free monday   \\n\\nexamples of things we'll remove:\\n\\n* wha...\n",
       "781   casual convo fridays  every friday, just say whatever is in your min...\n",
       "867        happy thersday!  thersday is a day for questions focusing on wo...\n",
       "1081      mate free monday   \\n\\nexamples of things we'll remove:\\n\\n* wha...\n",
       "1326  casual convo fridays  every friday, just say whatever is in your min...\n",
       "1402       happy thersday!  thersday is a day for questions focusing on wo...\n",
       "1616      mate free monday   \\n\\nexamples of things we'll remove:\\n\\n* wha...\n",
       "1867  casual convo fridays  every friday, just say whatever is in your min...\n",
       "1927       happy thersday!  thersday is a day for questions focusing on wo..."
      ]
     },
     "execution_count": 12,
     "metadata": {},
     "output_type": "execute_result"
    }
   ],
   "source": [
    "# Checking the posts from the moderators in the askwomen posts\n",
    "\n",
    "df[df['text'].str.contains('the askwomen mod')][['title', 'text']]"
   ]
  },
  {
   "cell_type": "code",
   "execution_count": 13,
   "id": "62151dea-3d87-41b0-b9ad-b311edf75143",
   "metadata": {},
   "outputs": [],
   "source": [
    "# Removing the rows with posts from the moderators\n",
    "\n",
    "df.drop(df[df.text.str.contains(r'the askwomen mod', case=False)].index, inplace = True)"
   ]
  },
  {
   "cell_type": "code",
   "execution_count": 14,
   "id": "8737cc59-843d-406d-8e0e-02201f6aae72",
   "metadata": {},
   "outputs": [
    {
     "data": {
      "text/plain": [
       "913    when i asked my my best male friend why i’m si...\n",
       "Name: text, dtype: object"
      ]
     },
     "execution_count": 14,
     "metadata": {},
     "output_type": "execute_result"
    }
   ],
   "source": [
    "# Checking the posts from the moderators in the askmen posts\n",
    "\n",
    "df[df['text'].str.contains('askmen')]['text']"
   ]
  },
  {
   "cell_type": "markdown",
   "id": "52f7ee6f-139e-4417-8b25-7a124272adad",
   "metadata": {},
   "source": [
    "This text pertains to the question and not a post from the moderators. Keeping this text"
   ]
  },
  {
   "cell_type": "code",
   "execution_count": 15,
   "id": "9920aa09-abe4-4429-b399-edc06bfaf0af",
   "metadata": {},
   "outputs": [],
   "source": [
    "# Replacing the word 'title' from all the text because it refers to the post's title\n",
    "\n",
    "df['text'] = df['text'].apply(lambda x: re.sub(r'title', ' ', x))\n",
    "\n",
    "#Dropping the rows with duplicate titles\n",
    "\n",
    "df.drop_duplicates(subset = ['title'], inplace = True)"
   ]
  },
  {
   "cell_type": "code",
   "execution_count": 16,
   "id": "2343990e-f135-47a2-b558-04f70291b6e0",
   "metadata": {},
   "outputs": [
    {
     "data": {
      "text/html": [
       "<div>\n",
       "<style scoped>\n",
       "    .dataframe tbody tr th:only-of-type {\n",
       "        vertical-align: middle;\n",
       "    }\n",
       "\n",
       "    .dataframe tbody tr th {\n",
       "        vertical-align: top;\n",
       "    }\n",
       "\n",
       "    .dataframe thead th {\n",
       "        text-align: right;\n",
       "    }\n",
       "</style>\n",
       "<table border=\"1\" class=\"dataframe\">\n",
       "  <thead>\n",
       "    <tr style=\"text-align: right;\">\n",
       "      <th></th>\n",
       "      <th>id</th>\n",
       "      <th>title</th>\n",
       "      <th>text</th>\n",
       "      <th>subreddit</th>\n",
       "    </tr>\n",
       "  </thead>\n",
       "  <tbody>\n",
       "    <tr>\n",
       "      <th>0</th>\n",
       "      <td>xv4bb9</td>\n",
       "      <td>how is the best way to pleasure a women</td>\n",
       "      <td></td>\n",
       "      <td>askwomen</td>\n",
       "    </tr>\n",
       "    <tr>\n",
       "      <th>1</th>\n",
       "      <td>xv3c2t</td>\n",
       "      <td>ladies  how often or how long do you look in t...</td>\n",
       "      <td></td>\n",
       "      <td>askwomen</td>\n",
       "    </tr>\n",
       "    <tr>\n",
       "      <th>2</th>\n",
       "      <td>xv38q8</td>\n",
       "      <td>what is the telltale sign that someone is a sn...</td>\n",
       "      <td></td>\n",
       "      <td>askwomen</td>\n",
       "    </tr>\n",
       "    <tr>\n",
       "      <th>3</th>\n",
       "      <td>xv2vfm</td>\n",
       "      <td>what do you do to support your so make their l...</td>\n",
       "      <td></td>\n",
       "      <td>askwomen</td>\n",
       "    </tr>\n",
       "    <tr>\n",
       "      <th>4</th>\n",
       "      <td>xv2nlj</td>\n",
       "      <td>what is a music opinion you have that will hav...</td>\n",
       "      <td></td>\n",
       "      <td>askwomen</td>\n",
       "    </tr>\n",
       "  </tbody>\n",
       "</table>\n",
       "</div>"
      ],
      "text/plain": [
       "       id                                              title text subreddit\n",
       "0  xv4bb9           how is the best way to pleasure a women        askwomen\n",
       "1  xv3c2t  ladies  how often or how long do you look in t...       askwomen\n",
       "2  xv38q8  what is the telltale sign that someone is a sn...       askwomen\n",
       "3  xv2vfm  what do you do to support your so make their l...       askwomen\n",
       "4  xv2nlj  what is a music opinion you have that will hav...       askwomen"
      ]
     },
     "execution_count": 16,
     "metadata": {},
     "output_type": "execute_result"
    }
   ],
   "source": [
    "# Removing punctuation\n",
    "\n",
    "df['title'] = df['title'].apply(lambda x: re.sub(r'[^\\w\\s]', ' ', x))\n",
    "\n",
    "df['text'] = df['text'].apply(lambda x: re.sub(r'[^\\w\\s]', ' ', x))\n",
    "\n",
    "\n",
    "# Removing numbers\n",
    "\n",
    "df['title'] = df['title'].apply(lambda x: re.sub(r'[\\d]', ' ', x))\n",
    "\n",
    "df['text'] = df['text'].apply(lambda x: re.sub(r'[\\d]', ' ', x))\n",
    "\n",
    "\n",
    "# Removing nan's from text\n",
    "\n",
    "df['text'] = df['text'].replace('nan', value = '') \n",
    "\n",
    "df.head()"
   ]
  },
  {
   "cell_type": "code",
   "execution_count": 17,
   "id": "ff25733b-1979-44b6-94dd-832b9599b9ab",
   "metadata": {},
   "outputs": [
    {
     "name": "stdout",
     "output_type": "stream",
     "text": [
      "askwomen    0.502364\n",
      "askmen      0.497636\n",
      "Name: subreddit, dtype: float64\n",
      "1    0.502364\n",
      "0    0.497636\n",
      "Name: subreddit, dtype: float64\n"
     ]
    }
   ],
   "source": [
    "# Making the subreddit values binary\n",
    "\n",
    "print(df['subreddit'].value_counts(normalize=True))\n",
    "df['subreddit'] = df['subreddit'].map({'askwomen':1, 'askmen':0})\n",
    "print(df['subreddit'].value_counts(normalize=True))\n"
   ]
  },
  {
   "cell_type": "markdown",
   "id": "0bd8b565-580b-411e-b2bf-c65cd539bc5d",
   "metadata": {},
   "source": [
    "---"
   ]
  },
  {
   "cell_type": "markdown",
   "id": "33b83a0b-59b9-4f92-9ced-685fd44284be",
   "metadata": {},
   "source": [
    "# Looking at posts based on title and text length"
   ]
  },
  {
   "cell_type": "code",
   "execution_count": 18,
   "id": "36270ce0-4cfc-4c6e-89a2-0a4a91c72734",
   "metadata": {},
   "outputs": [
    {
     "data": {
      "text/html": [
       "<div>\n",
       "<style scoped>\n",
       "    .dataframe tbody tr th:only-of-type {\n",
       "        vertical-align: middle;\n",
       "    }\n",
       "\n",
       "    .dataframe tbody tr th {\n",
       "        vertical-align: top;\n",
       "    }\n",
       "\n",
       "    .dataframe thead th {\n",
       "        text-align: right;\n",
       "    }\n",
       "</style>\n",
       "<table border=\"1\" class=\"dataframe\">\n",
       "  <thead>\n",
       "    <tr style=\"text-align: right;\">\n",
       "      <th></th>\n",
       "      <th>id</th>\n",
       "      <th>title</th>\n",
       "      <th>text</th>\n",
       "      <th>subreddit</th>\n",
       "      <th>title_length</th>\n",
       "      <th>text_length</th>\n",
       "    </tr>\n",
       "  </thead>\n",
       "  <tbody>\n",
       "    <tr>\n",
       "      <th>0</th>\n",
       "      <td>xv4bb9</td>\n",
       "      <td>how is the best way to pleasure a women</td>\n",
       "      <td></td>\n",
       "      <td>1</td>\n",
       "      <td>40</td>\n",
       "      <td>0</td>\n",
       "    </tr>\n",
       "    <tr>\n",
       "      <th>1</th>\n",
       "      <td>xv3c2t</td>\n",
       "      <td>ladies  how often or how long do you look in t...</td>\n",
       "      <td></td>\n",
       "      <td>1</td>\n",
       "      <td>85</td>\n",
       "      <td>0</td>\n",
       "    </tr>\n",
       "    <tr>\n",
       "      <th>2</th>\n",
       "      <td>xv38q8</td>\n",
       "      <td>what is the telltale sign that someone is a sn...</td>\n",
       "      <td></td>\n",
       "      <td>1</td>\n",
       "      <td>56</td>\n",
       "      <td>0</td>\n",
       "    </tr>\n",
       "    <tr>\n",
       "      <th>3</th>\n",
       "      <td>xv2vfm</td>\n",
       "      <td>what do you do to support your so make their l...</td>\n",
       "      <td></td>\n",
       "      <td>1</td>\n",
       "      <td>58</td>\n",
       "      <td>0</td>\n",
       "    </tr>\n",
       "    <tr>\n",
       "      <th>4</th>\n",
       "      <td>xv2nlj</td>\n",
       "      <td>what is a music opinion you have that will hav...</td>\n",
       "      <td></td>\n",
       "      <td>1</td>\n",
       "      <td>79</td>\n",
       "      <td>0</td>\n",
       "    </tr>\n",
       "  </tbody>\n",
       "</table>\n",
       "</div>"
      ],
      "text/plain": [
       "       id                                              title text  subreddit  \\\n",
       "0  xv4bb9           how is the best way to pleasure a women                1   \n",
       "1  xv3c2t  ladies  how often or how long do you look in t...               1   \n",
       "2  xv38q8  what is the telltale sign that someone is a sn...               1   \n",
       "3  xv2vfm  what do you do to support your so make their l...               1   \n",
       "4  xv2nlj  what is a music opinion you have that will hav...               1   \n",
       "\n",
       "   title_length  text_length  \n",
       "0            40            0  \n",
       "1            85            0  \n",
       "2            56            0  \n",
       "3            58            0  \n",
       "4            79            0  "
      ]
     },
     "execution_count": 18,
     "metadata": {},
     "output_type": "execute_result"
    }
   ],
   "source": [
    "#Creating column to look at number of words and length posts\n",
    "\n",
    "df['title_length'] = df['title'].apply(len)\n",
    "df['text_length'] = df['text'].apply(len)\n",
    "df.head()"
   ]
  },
  {
   "cell_type": "code",
   "execution_count": 19,
   "id": "0a78eec2-1292-4fa1-91ac-95161bea2fb3",
   "metadata": {},
   "outputs": [
    {
     "data": {
      "text/html": [
       "<div>\n",
       "<style scoped>\n",
       "    .dataframe tbody tr th:only-of-type {\n",
       "        vertical-align: middle;\n",
       "    }\n",
       "\n",
       "    .dataframe tbody tr th {\n",
       "        vertical-align: top;\n",
       "    }\n",
       "\n",
       "    .dataframe thead th {\n",
       "        text-align: right;\n",
       "    }\n",
       "</style>\n",
       "<table border=\"1\" class=\"dataframe\">\n",
       "  <thead>\n",
       "    <tr style=\"text-align: right;\">\n",
       "      <th></th>\n",
       "      <th>subreddit</th>\n",
       "      <th>title_length</th>\n",
       "      <th>text_length</th>\n",
       "    </tr>\n",
       "  </thead>\n",
       "  <tbody>\n",
       "    <tr>\n",
       "      <th>count</th>\n",
       "      <td>4019.000000</td>\n",
       "      <td>4019.000000</td>\n",
       "      <td>4019.000000</td>\n",
       "    </tr>\n",
       "    <tr>\n",
       "      <th>mean</th>\n",
       "      <td>0.502364</td>\n",
       "      <td>69.615078</td>\n",
       "      <td>95.128141</td>\n",
       "    </tr>\n",
       "    <tr>\n",
       "      <th>std</th>\n",
       "      <td>0.500057</td>\n",
       "      <td>34.643364</td>\n",
       "      <td>273.054450</td>\n",
       "    </tr>\n",
       "    <tr>\n",
       "      <th>min</th>\n",
       "      <td>0.000000</td>\n",
       "      <td>4.000000</td>\n",
       "      <td>0.000000</td>\n",
       "    </tr>\n",
       "    <tr>\n",
       "      <th>25%</th>\n",
       "      <td>0.000000</td>\n",
       "      <td>47.000000</td>\n",
       "      <td>0.000000</td>\n",
       "    </tr>\n",
       "    <tr>\n",
       "      <th>50%</th>\n",
       "      <td>1.000000</td>\n",
       "      <td>62.000000</td>\n",
       "      <td>0.000000</td>\n",
       "    </tr>\n",
       "    <tr>\n",
       "      <th>75%</th>\n",
       "      <td>1.000000</td>\n",
       "      <td>83.000000</td>\n",
       "      <td>55.500000</td>\n",
       "    </tr>\n",
       "    <tr>\n",
       "      <th>max</th>\n",
       "      <td>1.000000</td>\n",
       "      <td>300.000000</td>\n",
       "      <td>3461.000000</td>\n",
       "    </tr>\n",
       "  </tbody>\n",
       "</table>\n",
       "</div>"
      ],
      "text/plain": [
       "         subreddit  title_length  text_length\n",
       "count  4019.000000   4019.000000  4019.000000\n",
       "mean      0.502364     69.615078    95.128141\n",
       "std       0.500057     34.643364   273.054450\n",
       "min       0.000000      4.000000     0.000000\n",
       "25%       0.000000     47.000000     0.000000\n",
       "50%       1.000000     62.000000     0.000000\n",
       "75%       1.000000     83.000000    55.500000\n",
       "max       1.000000    300.000000  3461.000000"
      ]
     },
     "execution_count": 19,
     "metadata": {},
     "output_type": "execute_result"
    }
   ],
   "source": [
    "df.describe()"
   ]
  },
  {
   "cell_type": "code",
   "execution_count": 20,
   "id": "40de15e5-2ba9-4122-82ce-a34f37c8ac88",
   "metadata": {
    "tags": []
   },
   "outputs": [
    {
     "name": "stdout",
     "output_type": "stream",
     "text": [
      "0. men of reddit  i am    year old boy  all my friends who previously called me a  simp  for talking to girls of my class are now flirting with the same girls  and i can t do anything about it since i am always that  left out from the group  guy  i just can t focus on my goals  cuz of this  what to do \n",
      "\n",
      "1. question  if a well off individual approached you or you and your friends and said that they remember being your age and what it was like coming up  and that when they made money they d come back and take care of others  and they wanted to invite you to come do rich people shit  would it be weird \n",
      "\n",
      "2. how does a logical and cynical man who only dated casually by nature with severe ptsd fear ltrs  settle down  after surviving decades of harsh domestic abuse  saw horrific violent marriage divorce from their parents   amp  now sees their friends family also divorcing having bitter child disputes  \n",
      "\n",
      "3. i recently meet a girld and we have a very fun time together  we end up kissing and we use to talk via dm after that  she consistently removes me from his ig best friends  then she talk me again  remove me from his best friends  then add me again and the kick me out  it s so confusing  like why \n",
      "\n",
      "4. myself and the girl haven t seen each other for   years until we meet again recently  it was a great to see her once again  but i feel that we have a similar common sense  but myself is libra and she s gemini  i haven t been dating for over   years and i feel helpless how to ask her out by text \n",
      "\n"
     ]
    }
   ],
   "source": [
    "longest_titles = df.sort_values('title_length', ascending = False)['title'][:5]\n",
    "for i, x in enumerate(longest_titles):\n",
    "    print(f'{i}. {x}\\n')"
   ]
  },
  {
   "cell_type": "markdown",
   "id": "50df3e4b-6029-4d77-9c0e-a3a30da38c6c",
   "metadata": {},
   "source": [
    "Going to keep all the posts since 4000 characters isn't that long."
   ]
  },
  {
   "cell_type": "markdown",
   "id": "316c99bd-00d4-4f0e-b896-58ea46c8ecaf",
   "metadata": {},
   "source": [
    "## Shortest Titles"
   ]
  },
  {
   "cell_type": "code",
   "execution_count": 21,
   "id": "993f65b0-953c-47f5-b778-97eeecfa9cf1",
   "metadata": {
    "tags": []
   },
   "outputs": [
    {
     "name": "stdout",
     "output_type": "stream",
     "text": [
      "Index: 613\n",
      "Title: why  \n",
      "Text:  \n",
      "---------------\n",
      "Index: 610\n",
      "Title: how do i tell \n",
      "Text: if a girl is actually interested or she just enjoys the attention  \n",
      "---------------\n",
      "Index: 189\n",
      "Title: how to fight  \n",
      "Text: i have never been in a fight in my entire life  i have been beaten up as a kid but i wouldn t call that a fight cause i didn t throw anything significant back  i am now in my mid   s and honestly  i am a little scared that even after going to the gym and building some strength  if it came to it  i d most likely get beaten up again  \n",
      "\n",
      " amp  x   b \n",
      "\n",
      "my solution most of the time is to ignore and let things be  but what happens when that s not an option  what do you do  \n",
      "---------------\n",
      "Index: 788\n",
      "Title: what did i do  \n",
      "Text: today i surprised my boyfriend of a few years with a beanie of his favorite sports team  i left it on the bed so he d see it when he got off work  i also deep cleaned  \n",
      "\n",
      "he got off  went in the room  changed and we ate dinner  he said nothing to me  \n",
      "\n",
      "when i asked and kind of pressed more he said yeah he saw the beanie and that was it  \n",
      "\n",
      "thoughts  \n",
      "\n",
      "no  he didn t even thank me or try it on  \n",
      "---------------\n",
      "Index: 1749\n",
      "Title: why reach out  \n",
      "Text: so the other day someone i met and tried to set up a date reached out to me out of the blue  after ghosting me for months \n",
      "\n",
      "i m not going to entertain her  i m just confused why message me after so long  she s fairly attractive so she has a number of guys time she can waste  \n",
      "---------------\n"
     ]
    }
   ],
   "source": [
    "shortest_titles = df.sort_values('title_length', ascending = True)[:5]\n",
    "for rowindex, row in shortest_titles.iterrows():\n",
    "    print(f\"Index: {rowindex}\\nTitle: {row['title']} \\nText: {row['text']} \\n---------------\")"
   ]
  },
  {
   "cell_type": "markdown",
   "id": "64826871-85b6-4122-8811-3321841f0095",
   "metadata": {},
   "source": [
    "- Removing post that just has question 'why'"
   ]
  },
  {
   "cell_type": "code",
   "execution_count": 22,
   "id": "8975eb38-483d-4888-95ca-6814bdcb1320",
   "metadata": {},
   "outputs": [
    {
     "data": {
      "text/plain": [
       "(4019, 6)"
      ]
     },
     "execution_count": 22,
     "metadata": {},
     "output_type": "execute_result"
    }
   ],
   "source": [
    "df.shape"
   ]
  },
  {
   "cell_type": "code",
   "execution_count": 23,
   "id": "ece4ec0b-0d1a-4b41-aa91-55b325cb62ba",
   "metadata": {},
   "outputs": [],
   "source": [
    "df.drop(df[df['id'] == 'xspfjh'].index, inplace = True)"
   ]
  },
  {
   "cell_type": "markdown",
   "id": "02b0ecbc-1a13-4dcc-a8e0-3d1a4f097a18",
   "metadata": {},
   "source": [
    "## Distribution of posts"
   ]
  },
  {
   "cell_type": "code",
   "execution_count": 24,
   "id": "7bc81a54-8f37-4afc-be47-3cf22ac91274",
   "metadata": {},
   "outputs": [
    {
     "data": {
      "image/png": "[encoded data removed]",
      "text/plain": [
       "<Figure size 720x576 with 1 Axes>"
      ]
     },
     "metadata": {
      "needs_background": "light"
     },
     "output_type": "display_data"
    }
   ],
   "source": [
    "plt.figure(figsize=(10,8))\n",
    "plt.tight_layout()\n",
    "plt.rc('axes', titlesize=30) \n",
    "plt.rc('axes', labelsize=20) \n",
    "plt.hist(df[df['subreddit']==0]['title_length'])\n",
    "plt.title('Histogram of Question Title\\'s for Men')\n",
    "plt.xlabel('Length of title')\n",
    "plt.ylabel('Count')\n",
    "plt.savefig('../Images/histogram_men_titles.png');"
   ]
  },
  {
   "cell_type": "code",
   "execution_count": 25,
   "id": "ed99b868-e8d9-46c4-8a38-b6a0dcf60e5c",
   "metadata": {},
   "outputs": [
    {
     "data": {
      "image/png": "[encoded data removed]",
      "text/plain": [
       "<Figure size 720x576 with 1 Axes>"
      ]
     },
     "metadata": {
      "needs_background": "light"
     },
     "output_type": "display_data"
    }
   ],
   "source": [
    "plt.figure(figsize=(10,8))\n",
    "plt.tight_layout()\n",
    "plt.rc('axes', titlesize=30) \n",
    "plt.rc('axes', labelsize=20) \n",
    "plt.hist(df[df['subreddit']==1]['title_length'])\n",
    "plt.title('Histogram of Question Title\\'s for Women')\n",
    "plt.xlabel('Length of title')\n",
    "plt.ylabel('Count')\n",
    "plt.savefig('../Images/histogram_women_titles.png');"
   ]
  },
  {
   "cell_type": "markdown",
   "id": "1a1e916c-b3bb-49a7-8756-f36276bba8e0",
   "metadata": {},
   "source": [
    "- The distribution of the lengths in the titles for both men and women are similarly right skewed.\n"
   ]
  },
  {
   "cell_type": "code",
   "execution_count": 26,
   "id": "29230db9-1b58-47db-9bfc-0b005f1bc28f",
   "metadata": {},
   "outputs": [],
   "source": [
    "df.to_csv('../Data/questions_cleaned.csv', index = False)"
   ]
  }
 ],
 "metadata": {
  "kernelspec": {
   "display_name": "Python 3 (ipykernel)",
   "language": "python",
   "name": "python3"
  },
  "language_info": {
   "codemirror_mode": {
    "name": "ipython",
    "version": 3
   },
   "file_extension": ".py",
   "mimetype": "text/x-python",
   "name": "python",
   "nbconvert_exporter": "python",
   "pygments_lexer": "ipython3",
   "version": "3.9.12"
  }
 },
 "nbformat": 4,
 "nbformat_minor": 5
}
