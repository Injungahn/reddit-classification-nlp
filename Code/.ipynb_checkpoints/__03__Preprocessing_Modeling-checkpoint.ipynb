{
 "cells": [
  {
   "cell_type": "code",
   "execution_count": 1,
   "id": "f9afb7d8-e2b9-493a-9e4e-085d99751732",
   "metadata": {},
   "outputs": [],
   "source": [
    "import numpy as np\n",
    "import pandas as pd\n",
    "import matplotlib.pyplot as plt\n",
    "import seaborn as sns\n",
    "\n",
    "from sklearn.feature_extraction.text import CountVectorizer\n",
    "from sklearn.ensemble import RandomForestClassifier\n",
    "from sklearn.linear_model import LogisticRegression\n",
    "from sklearn.metrics import ConfusionMatrixDisplay, precision_score, recall_score\n",
    "from sklearn.model_selection import train_test_split, GridSearchCV\n",
    "from sklearn.pipeline import Pipeline\n",
    "from sklearn.preprocessing import StandardScaler\n",
    "from sklearn.tree import DecisionTreeClassifier\n"
   ]
  },
  {
   "cell_type": "code",
   "execution_count": 2,
   "id": "b4943fed-dc47-4384-a35e-0c346073ed56",
   "metadata": {},
   "outputs": [
    {
     "data": {
      "text/html": [
       "<div>\n",
       "<style scoped>\n",
       "    .dataframe tbody tr th:only-of-type {\n",
       "        vertical-align: middle;\n",
       "    }\n",
       "\n",
       "    .dataframe tbody tr th {\n",
       "        vertical-align: top;\n",
       "    }\n",
       "\n",
       "    .dataframe thead th {\n",
       "        text-align: right;\n",
       "    }\n",
       "</style>\n",
       "<table border=\"1\" class=\"dataframe\">\n",
       "  <thead>\n",
       "    <tr style=\"text-align: right;\">\n",
       "      <th></th>\n",
       "      <th>title</th>\n",
       "      <th>text</th>\n",
       "      <th>subreddit</th>\n",
       "      <th>title_length</th>\n",
       "      <th>text_length</th>\n",
       "    </tr>\n",
       "    <tr>\n",
       "      <th>id</th>\n",
       "      <th></th>\n",
       "      <th></th>\n",
       "      <th></th>\n",
       "      <th></th>\n",
       "      <th></th>\n",
       "    </tr>\n",
       "  </thead>\n",
       "  <tbody>\n",
       "    <tr>\n",
       "      <th>xv4bb9</th>\n",
       "      <td>how is the best way to pleasure a women</td>\n",
       "      <td>NaN</td>\n",
       "      <td>1</td>\n",
       "      <td>40</td>\n",
       "      <td>0</td>\n",
       "    </tr>\n",
       "    <tr>\n",
       "      <th>xv3c2t</th>\n",
       "      <td>ladies  how often or how long do you look in t...</td>\n",
       "      <td>NaN</td>\n",
       "      <td>1</td>\n",
       "      <td>85</td>\n",
       "      <td>0</td>\n",
       "    </tr>\n",
       "    <tr>\n",
       "      <th>xv38q8</th>\n",
       "      <td>what is the telltale sign that someone is a sn...</td>\n",
       "      <td>NaN</td>\n",
       "      <td>1</td>\n",
       "      <td>56</td>\n",
       "      <td>0</td>\n",
       "    </tr>\n",
       "    <tr>\n",
       "      <th>xv2vfm</th>\n",
       "      <td>what do you do to support your so make their l...</td>\n",
       "      <td>NaN</td>\n",
       "      <td>1</td>\n",
       "      <td>58</td>\n",
       "      <td>0</td>\n",
       "    </tr>\n",
       "    <tr>\n",
       "      <th>xv2nlj</th>\n",
       "      <td>what is a music opinion you have that will hav...</td>\n",
       "      <td>NaN</td>\n",
       "      <td>1</td>\n",
       "      <td>79</td>\n",
       "      <td>0</td>\n",
       "    </tr>\n",
       "  </tbody>\n",
       "</table>\n",
       "</div>"
      ],
      "text/plain": [
       "                                                    title text  subreddit  \\\n",
       "id                                                                          \n",
       "xv4bb9           how is the best way to pleasure a women   NaN          1   \n",
       "xv3c2t  ladies  how often or how long do you look in t...  NaN          1   \n",
       "xv38q8  what is the telltale sign that someone is a sn...  NaN          1   \n",
       "xv2vfm  what do you do to support your so make their l...  NaN          1   \n",
       "xv2nlj  what is a music opinion you have that will hav...  NaN          1   \n",
       "\n",
       "        title_length  text_length  \n",
       "id                                 \n",
       "xv4bb9            40            0  \n",
       "xv3c2t            85            0  \n",
       "xv38q8            56            0  \n",
       "xv2vfm            58            0  \n",
       "xv2nlj            79            0  "
      ]
     },
     "execution_count": 2,
     "metadata": {},
     "output_type": "execute_result"
    }
   ],
   "source": [
    "# Reading in data\n",
    "df = pd.read_csv('../Data/questions_cleaned.csv', index_col='id')\n",
    "df.head()"
   ]
  },
  {
   "cell_type": "code",
   "execution_count": 3,
   "id": "a370b91c-87a4-4532-8377-9ab577ac95bc",
   "metadata": {},
   "outputs": [
    {
     "data": {
      "text/plain": [
       "(4017, 5)"
      ]
     },
     "execution_count": 3,
     "metadata": {},
     "output_type": "execute_result"
    }
   ],
   "source": [
    "df.shape"
   ]
  },
  {
   "cell_type": "code",
   "execution_count": 4,
   "id": "21e30e21-214e-4dc2-9a4a-9044c0e59f65",
   "metadata": {},
   "outputs": [
    {
     "data": {
      "text/plain": [
       "title              0\n",
       "text            2827\n",
       "subreddit          0\n",
       "title_length       0\n",
       "text_length        0\n",
       "dtype: int64"
      ]
     },
     "execution_count": 4,
     "metadata": {},
     "output_type": "execute_result"
    }
   ],
   "source": [
    "#Checking for nulls since empty strings become null value\n",
    "df.isnull().sum()"
   ]
  },
  {
   "cell_type": "code",
   "execution_count": 5,
   "id": "05b10bcc-2d67-4527-9dc0-0ff663708393",
   "metadata": {
    "tags": []
   },
   "outputs": [],
   "source": [
    "# Replacing the null values with empty strings and creating X and Y\n",
    "df['text'] = df['text'].replace(np.nan, value = '') \n",
    "\n",
    "X = df['title'] + df['text']\n",
    "\n",
    "y = df['subreddit']"
   ]
  },
  {
   "cell_type": "code",
   "execution_count": 6,
   "id": "8653dfc2-7aa5-4b10-b365-8b818a1c732f",
   "metadata": {
    "tags": []
   },
   "outputs": [
    {
     "data": {
      "text/plain": [
       "1    0.502365\n",
       "0    0.497635\n",
       "Name: subreddit, dtype: float64"
      ]
     },
     "execution_count": 6,
     "metadata": {},
     "output_type": "execute_result"
    }
   ],
   "source": [
    "# Looking at baseline accuracy\n",
    "y.value_counts(normalize=True)"
   ]
  },
  {
   "cell_type": "markdown",
   "id": "35e0e17f-aa2a-4c2c-b65c-4f5966d6ad8f",
   "metadata": {},
   "source": [
    "### Baseline Accuracy\n",
    "\n",
    "- Model has a baseline accuracy of 50%"
   ]
  },
  {
   "cell_type": "markdown",
   "id": "b68dcfb0-4167-4e4d-b620-090c974c47aa",
   "metadata": {},
   "source": [
    "---"
   ]
  },
  {
   "cell_type": "code",
   "execution_count": 7,
   "id": "a9330bc5-67f5-41c6-b8c4-43e857fcea94",
   "metadata": {},
   "outputs": [
    {
     "name": "stdout",
     "output_type": "stream",
     "text": [
      "(3012,)\n",
      "(3012,)\n"
     ]
    }
   ],
   "source": [
    "# Train Test Split\n",
    "\n",
    "X_train, X_test, y_train, y_test = train_test_split(X, y, random_state=42, stratify=y)\n",
    "print(X_train.shape)\n",
    "print(y_train.shape)"
   ]
  },
  {
   "cell_type": "markdown",
   "id": "89086207-cc45-483d-8c1d-3678eced9313",
   "metadata": {},
   "source": [
    "# First model with Logistic Regression"
   ]
  },
  {
   "cell_type": "code",
   "execution_count": 8,
   "id": "24008f2c-531a-4711-a079-59361f4111af",
   "metadata": {},
   "outputs": [],
   "source": [
    "def train_run_evaluate_grid_on_model(params, model, X_train, X_test, y_train, y_test):\n",
    "    \"\"\"Function to train a specific type of model using a pipeline and gridsearch\n",
    "       Prints the best score, best params, and the training and testing accuracy\n",
    "    \"\"\"\n",
    "    print('-----------------------------')\n",
    "    pipe = Pipeline([\n",
    "        ('cvec', CountVectorizer()),\n",
    "        ('est', model),\n",
    "    ])\n",
    "\n",
    "    gs = GridSearchCV(pipe,\n",
    "                  param_grid=params,\n",
    "                  n_jobs = -1,\n",
    "                  cv=5\n",
    "             )\n",
    "\n",
    "    gs.fit(X_train, y_train)\n",
    "\n",
    "    print(f'Best Score: {gs.best_score_}')\n",
    "    print(f'Best Params: {gs.best_params_}')\n",
    "\n",
    "    print(f'Training Accuracy: {gs.score(X_train, y_train)}')\n",
    "    print(f'Testing  Accuracy: {gs.score(X_test, y_test)}')\n",
    "          \n",
    "    return gs\n"
   ]
  },
  {
   "cell_type": "code",
   "execution_count": 9,
   "id": "ee399b04-68b9-46ec-ba31-edbedcec6799",
   "metadata": {},
   "outputs": [
    {
     "name": "stdout",
     "output_type": "stream",
     "text": [
      "-----------------------------\n",
      "Best Score: 0.7802141011443338\n",
      "Best Params: {'cvec__max_features': 3500, 'cvec__ngram_range': (1, 1), 'cvec__stop_words': None, 'est__C': 0.09}\n",
      "Training Accuracy: 0.8422974767596282\n",
      "Testing  Accuracy: 0.7950248756218905\n"
     ]
    }
   ],
   "source": [
    "lr_pipe_params = {\n",
    "    'cvec__max_features': range(3500,3700,50),\n",
    "    'cvec__stop_words': [None, 'english'],\n",
    "    'cvec__ngram_range': [(1,1), (1,2)],\n",
    "    'est__C': np.arange(0.09, 0.1)\n",
    "}\n",
    "\n",
    "lr_gs = train_run_evaluate_grid_on_model(lr_pipe_params, LogisticRegression(), X_train, X_test, y_train, y_test)"
   ]
  },
  {
   "cell_type": "markdown",
   "id": "6732cf61-8ac5-4892-8354-b4aa78aac0c3",
   "metadata": {},
   "source": [
    "### OVERALL BEST PARAMETERS:\n",
    "\n",
    "- cvec__max_features: 3630 - 3650\n",
    "- cvec__ngram_range: (1,2)\n",
    "- cvec__stop_words: None\n",
    "- est__C: 0.09\n",
    "\n",
    "### Metrics\n",
    "\n",
    "- Max Accuracy: 80%"
   ]
  },
  {
   "cell_type": "code",
   "execution_count": 10,
   "id": "32a69066-32eb-48d9-a4c3-62782ffa8718",
   "metadata": {},
   "outputs": [],
   "source": [
    "preds = lr_gs.predict(X_test)"
   ]
  },
  {
   "cell_type": "markdown",
   "id": "6f9b5fc3-b775-40b2-abe6-67b993c33fdd",
   "metadata": {},
   "source": [
    "---"
   ]
  },
  {
   "cell_type": "markdown",
   "id": "1c9cdd6e-ad9b-484e-bb95-ac630121fd1c",
   "metadata": {},
   "source": [
    "# Examining Feature Names with Highest Coefficients"
   ]
  },
  {
   "cell_type": "code",
   "execution_count": 11,
   "id": "d2386140-83e9-45c6-a078-3ca14ba00113",
   "metadata": {
    "tags": []
   },
   "outputs": [
    {
     "data": {
      "text/plain": [
       "array(['abandonment', 'abdominal', 'ability', ..., 'zero', 'zombie',\n",
       "       'zone'], dtype=object)"
      ]
     },
     "execution_count": 11,
     "metadata": {},
     "output_type": "execute_result"
    }
   ],
   "source": [
    "feature_names = lr_gs.best_estimator_.named_steps['cvec'].get_feature_names_out()\n",
    "feature_names"
   ]
  },
  {
   "cell_type": "code",
   "execution_count": 12,
   "id": "4649de83-c4eb-4bd1-92ab-f5ba0bbd6f7d",
   "metadata": {
    "tags": []
   },
   "outputs": [
    {
     "data": {
      "text/plain": [
       "array([[-0.00345039],\n",
       "       [ 0.0531167 ],\n",
       "       [-0.05040401],\n",
       "       ...,\n",
       "       [ 0.03665206],\n",
       "       [-0.04351834],\n",
       "       [ 0.08332448]])"
      ]
     },
     "execution_count": 12,
     "metadata": {},
     "output_type": "execute_result"
    }
   ],
   "source": [
    "coefs = lr_gs.best_estimator_.named_steps['est'].coef_.T\n",
    "coefs"
   ]
  },
  {
   "cell_type": "code",
   "execution_count": 13,
   "id": "54c247c3-6d36-47eb-bb41-c6cfee708a76",
   "metadata": {
    "tags": []
   },
   "outputs": [],
   "source": [
    "coef_df = pd.DataFrame(coefs, index = feature_names, columns=['coefs'])\n",
    "top_10_coefs = coef_df.sort_values(by = 'coefs', ascending= False)[:10]"
   ]
  },
  {
   "cell_type": "code",
   "execution_count": 14,
   "id": "aa520bcf-d823-41b1-bd63-391e7ba547cc",
   "metadata": {
    "tags": []
   },
   "outputs": [],
   "source": [
    "bot_10_coefs = coef_df.sort_values(by = 'coefs', ascending= True)[:10]"
   ]
  },
  {
   "cell_type": "code",
   "execution_count": 15,
   "id": "c462d618-f233-4c3c-926b-9851cbf9bf61",
   "metadata": {},
   "outputs": [
    {
     "data": {
      "image/png": "[encoded data removed]",
      "text/plain": [
       "<Figure size 720x576 with 1 Axes>"
      ]
     },
     "metadata": {
      "needs_background": "light"
     },
     "output_type": "display_data"
    }
   ],
   "source": [
    "plt.figure(figsize = (10,8))\n",
    "y_pos = np.arange(10)\n",
    "plt.rc('axes', titlesize=30) \n",
    "plt.rc('axes', labelsize=20) \n",
    "plt.rc('xtick', labelsize=15)\n",
    "plt.rc('ytick', labelsize=15) \n",
    "plt.barh(y_pos ,top_10_coefs['coefs'][:10])\n",
    "plt.yticks(y_pos, top_10_coefs[:10].index)\n",
    "plt.title('Key Terms in Questions To Women')\n",
    "plt.xlabel('Coefficient Strength')\n",
    "plt.ylabel('Key Terms')\n",
    "plt.tight_layout()\n",
    "plt.savefig('../Images/top_cofficient_coefs')"
   ]
  },
  {
   "cell_type": "markdown",
   "id": "fb66ee4e-9978-4b0e-bbdd-74f9d036231c",
   "metadata": {},
   "source": [
    "- For the terms ['ladies', 'women of', 'women who', 'women'] make sense. It is interesting to note that the word women is used instead of 'girl'\n",
    "- Also interesting that the words 'love' and 'family' are found more in questions specified towards women"
   ]
  },
  {
   "cell_type": "code",
   "execution_count": 16,
   "id": "904273fa-2246-4345-9b3c-6993fba94e6e",
   "metadata": {},
   "outputs": [
    {
     "data": {
      "image/png": "[encoded data removed]",
      "text/plain": [
       "<Figure size 720x576 with 1 Axes>"
      ]
     },
     "metadata": {
      "needs_background": "light"
     },
     "output_type": "display_data"
    }
   ],
   "source": [
    "plt.figure(figsize = (10,8))\n",
    "y_pos = np.arange(10)\n",
    "plt.rc('axes', titlesize=30) \n",
    "plt.rc('axes', labelsize=20) \n",
    "plt.rc('xtick', labelsize=15)\n",
    "plt.rc('ytick', labelsize=15) \n",
    "plt.barh(y_pos ,bot_10_coefs['coefs'][:10])\n",
    "plt.yticks(y_pos, bot_10_coefs[:10].index)\n",
    "plt.title('Key Terms in Questions To Men')\n",
    "plt.xlabel('Coefficient Strength')\n",
    "plt.ylabel('Key Terms')\n",
    "plt.tight_layout()\n",
    "plt.savefig('../Images/bot_cofficient_coefs')"
   ]
  },
  {
   "cell_type": "markdown",
   "id": "8c9fffc2-de32-494e-b1d8-fca9909c62fc",
   "metadata": {},
   "source": [
    "- The terms ['men', 'guys', 'man', 'men of', 'guy', 'wife'] make sense in terms of questions geared towards men\n",
    "- The use of 'my' however is interesting as it may pertain to how males refer to their partners when asking about them. Also the importance of the word 'attractive' is interesting to see."
   ]
  },
  {
   "cell_type": "markdown",
   "id": "57c1c8f3-6e07-4f1f-9606-b1781bc99249",
   "metadata": {},
   "source": [
    "---"
   ]
  },
  {
   "cell_type": "markdown",
   "id": "2899cb38-f510-4d77-9793-e0978a19e7b2",
   "metadata": {},
   "source": [
    "# Classification Metrics"
   ]
  },
  {
   "cell_type": "code",
   "execution_count": 17,
   "id": "b7eea27c-7985-418b-8d0e-d552ecd0dfbb",
   "metadata": {},
   "outputs": [
    {
     "data": {
      "image/png": "[encoded data removed]",
      "text/plain": [
       "<Figure size 432x288 with 2 Axes>"
      ]
     },
     "metadata": {
      "needs_background": "light"
     },
     "output_type": "display_data"
    }
   ],
   "source": [
    "# Confusion matrix\n",
    "ConfusionMatrixDisplay.from_estimator(lr_gs, X_test, y_test, cmap='Blues')\n",
    "plt.rc('axes', titlesize=15) \n",
    "plt.rc('axes', labelsize=10) \n",
    "plt.title('Logistic Regression Confusion Matrix')\n",
    "plt.tight_layout()\n",
    "plt.savefig('../Images/lgr_confusion_matrix.png');"
   ]
  },
  {
   "cell_type": "code",
   "execution_count": 18,
   "id": "e9e126bb-1da4-4baa-bb23-a48d6e6dcb79",
   "metadata": {},
   "outputs": [
    {
     "name": "stdout",
     "output_type": "stream",
     "text": [
      "Recall: 0.9267326732673268\n",
      "Precision: 0.7346938775510204\n"
     ]
    }
   ],
   "source": [
    "print(f'Recall: {recall_score(y_test, preds)}')\n",
    "print(f'Precision: {precision_score(y_test, preds)}')"
   ]
  },
  {
   "cell_type": "markdown",
   "id": "12315481-8a27-4c31-88ff-f6f4512ff26c",
   "metadata": {},
   "source": [
    "---"
   ]
  },
  {
   "cell_type": "markdown",
   "id": "1efc1f50-f57a-4db3-b0aa-535b03768df0",
   "metadata": {},
   "source": [
    "# Looking at questions that were classified incorrectly"
   ]
  },
  {
   "cell_type": "code",
   "execution_count": 19,
   "id": "4bd7d872-fd3c-4a91-84ee-2ff08ca06a08",
   "metadata": {},
   "outputs": [
    {
     "data": {
      "text/plain": [
       "(1005, 1)"
      ]
     },
     "execution_count": 19,
     "metadata": {},
     "output_type": "execute_result"
    }
   ],
   "source": [
    "# Create DF of misclassified questions\n",
    "test_questions = pd.DataFrame(preds, index=y_test.index, columns=['prediction'])\n",
    "test_questions.shape"
   ]
  },
  {
   "cell_type": "code",
   "execution_count": 20,
   "id": "a066cbb2-6a28-470d-bed5-6529c61cb93f",
   "metadata": {},
   "outputs": [
    {
     "data": {
      "text/plain": [
       "(1005, 7)"
      ]
     },
     "execution_count": 20,
     "metadata": {},
     "output_type": "execute_result"
    }
   ],
   "source": [
    "# Merging the predictions twith the questions they were related to\n",
    "\n",
    "test_questions = test_questions.merge(df, left_on=test_questions.index, right_on = df.index)\n",
    "test_questions.shape"
   ]
  },
  {
   "cell_type": "code",
   "execution_count": 21,
   "id": "f814b3a0-6091-4a86-a3d1-74ae21072af4",
   "metadata": {},
   "outputs": [
    {
     "data": {
      "text/html": [
       "<div>\n",
       "<style scoped>\n",
       "    .dataframe tbody tr th:only-of-type {\n",
       "        vertical-align: middle;\n",
       "    }\n",
       "\n",
       "    .dataframe tbody tr th {\n",
       "        vertical-align: top;\n",
       "    }\n",
       "\n",
       "    .dataframe thead th {\n",
       "        text-align: right;\n",
       "    }\n",
       "</style>\n",
       "<table border=\"1\" class=\"dataframe\">\n",
       "  <thead>\n",
       "    <tr style=\"text-align: right;\">\n",
       "      <th></th>\n",
       "      <th>key_0</th>\n",
       "      <th>prediction</th>\n",
       "      <th>title</th>\n",
       "      <th>text</th>\n",
       "      <th>subreddit</th>\n",
       "      <th>title_length</th>\n",
       "      <th>text_length</th>\n",
       "    </tr>\n",
       "  </thead>\n",
       "  <tbody>\n",
       "    <tr>\n",
       "      <th>0</th>\n",
       "      <td>xnkz15</td>\n",
       "      <td>1</td>\n",
       "      <td>has your bra clip ever opened accidentally in ...</td>\n",
       "      <td></td>\n",
       "      <td>1</td>\n",
       "      <td>70</td>\n",
       "      <td>0</td>\n",
       "    </tr>\n",
       "    <tr>\n",
       "      <th>1</th>\n",
       "      <td>xrmtkh</td>\n",
       "      <td>1</td>\n",
       "      <td>would you care if your gf had bigger hands tha...</td>\n",
       "      <td></td>\n",
       "      <td>0</td>\n",
       "      <td>68</td>\n",
       "      <td>0</td>\n",
       "    </tr>\n",
       "    <tr>\n",
       "      <th>2</th>\n",
       "      <td>xumabp</td>\n",
       "      <td>0</td>\n",
       "      <td>how to deal with dad who thinks your not good ...</td>\n",
       "      <td>my gf dad thinks she can do better than me   i...</td>\n",
       "      <td>0</td>\n",
       "      <td>70</td>\n",
       "      <td>272</td>\n",
       "    </tr>\n",
       "    <tr>\n",
       "      <th>3</th>\n",
       "      <td>xn05d1</td>\n",
       "      <td>1</td>\n",
       "      <td>which movie character do you relate to the most</td>\n",
       "      <td></td>\n",
       "      <td>0</td>\n",
       "      <td>48</td>\n",
       "      <td>0</td>\n",
       "    </tr>\n",
       "    <tr>\n",
       "      <th>4</th>\n",
       "      <td>xq4s0v</td>\n",
       "      <td>0</td>\n",
       "      <td>men of reddit  what are three reasons you are ...</td>\n",
       "      <td></td>\n",
       "      <td>0</td>\n",
       "      <td>75</td>\n",
       "      <td>0</td>\n",
       "    </tr>\n",
       "  </tbody>\n",
       "</table>\n",
       "</div>"
      ],
      "text/plain": [
       "    key_0  prediction                                              title  \\\n",
       "0  xnkz15           1  has your bra clip ever opened accidentally in ...   \n",
       "1  xrmtkh           1  would you care if your gf had bigger hands tha...   \n",
       "2  xumabp           0  how to deal with dad who thinks your not good ...   \n",
       "3  xn05d1           1   which movie character do you relate to the most    \n",
       "4  xq4s0v           0  men of reddit  what are three reasons you are ...   \n",
       "\n",
       "                                                text  subreddit  title_length  \\\n",
       "0                                                             1            70   \n",
       "1                                                             0            68   \n",
       "2  my gf dad thinks she can do better than me   i...          0            70   \n",
       "3                                                             0            48   \n",
       "4                                                             0            75   \n",
       "\n",
       "   text_length  \n",
       "0            0  \n",
       "1            0  \n",
       "2          272  \n",
       "3            0  \n",
       "4            0  "
      ]
     },
     "execution_count": 21,
     "metadata": {},
     "output_type": "execute_result"
    }
   ],
   "source": [
    "test_questions.head()"
   ]
  },
  {
   "cell_type": "code",
   "execution_count": 22,
   "id": "aaeafbab-e6b6-4df4-9d7d-d272d073ff4a",
   "metadata": {},
   "outputs": [
    {
     "data": {
      "text/plain": [
       "(206, 7)"
      ]
     },
     "execution_count": 22,
     "metadata": {},
     "output_type": "execute_result"
    }
   ],
   "source": [
    "# Filtered the misclassified questions by checking the prediction and the actual subreddit\n",
    "\n",
    "misclassified = test_questions[test_questions['prediction'] != test_questions['subreddit']]\n",
    "misclassified.shape"
   ]
  },
  {
   "cell_type": "code",
   "execution_count": 23,
   "id": "3c656b38-fef2-444c-8694-134b8b2e2392",
   "metadata": {},
   "outputs": [
    {
     "data": {
      "text/plain": [
       "subreddit  prediction  subreddit\n",
       "0          1           0            169\n",
       "1          0           1             37\n",
       "Name: subreddit, dtype: int64"
      ]
     },
     "execution_count": 23,
     "metadata": {},
     "output_type": "execute_result"
    }
   ],
   "source": [
    "misclassified.groupby(by = ['subreddit', 'prediction'])['subreddit'].value_counts()"
   ]
  },
  {
   "cell_type": "code",
   "execution_count": 24,
   "id": "8c201d6b-5795-48c5-8993-614b17181212",
   "metadata": {},
   "outputs": [
    {
     "data": {
      "text/plain": [
       "'.*(ladies|women|who|period|feel|love|partner|type|before|social|home|difference|an|about|person|men|guys|man|my|guy|girl|any|attractive|she|male|am|girlfriend|wife|makes|attracted).*'"
      ]
     },
     "execution_count": 24,
     "metadata": {},
     "output_type": "execute_result"
    }
   ],
   "source": [
    "# Looking at the 30 top coefficients and combining them into a regex\n",
    "\n",
    "top_15_coefs = coef_df.sort_values(by = 'coefs', ascending= False)[:15]\n",
    "bot_15_coefs = coef_df.sort_values(by = 'coefs', ascending= True)[:15]\n",
    "regex = '.*(' + '|'.join(top_15_coefs.index) + '|' + '|'.join(bot_15_coefs.index) + ').*'\n",
    "regex"
   ]
  },
  {
   "cell_type": "code",
   "execution_count": 25,
   "id": "c9776976-51b2-4a1c-a9b4-cd95f9e104a1",
   "metadata": {},
   "outputs": [
    {
     "name": "stdout",
     "output_type": "stream",
     "text": [
      "(143, 7)\n",
      "(63, 7)\n"
     ]
    }
   ],
   "source": [
    "# Creating lists of questions that have keywords in the top 15 or bot 15 coefficients\n",
    "\n",
    "yes_key_word = misclassified[misclassified.title.str.match(regex)]\n",
    "\n",
    "# Creating lists of questions that don't have keywords in the top 15 or bot 15 coefficients\n",
    "\n",
    "no_key_words = misclassified.drop(yes_key_word.index)\n",
    "print(yes_key_word.shape)\n",
    "print(no_key_words.shape)"
   ]
  },
  {
   "cell_type": "code",
   "execution_count": 26,
   "id": "6f957495-2ff6-408e-8fa6-dc2583d63a24",
   "metadata": {
    "tags": []
   },
   "outputs": [
    {
     "data": {
      "text/html": [
       "<div>\n",
       "<style scoped>\n",
       "    .dataframe tbody tr th:only-of-type {\n",
       "        vertical-align: middle;\n",
       "    }\n",
       "\n",
       "    .dataframe tbody tr th {\n",
       "        vertical-align: top;\n",
       "    }\n",
       "\n",
       "    .dataframe thead th {\n",
       "        text-align: right;\n",
       "    }\n",
       "</style>\n",
       "<table border=\"1\" class=\"dataframe\">\n",
       "  <thead>\n",
       "    <tr style=\"text-align: right;\">\n",
       "      <th></th>\n",
       "      <th>key_0</th>\n",
       "      <th>prediction</th>\n",
       "      <th>title</th>\n",
       "      <th>text</th>\n",
       "      <th>subreddit</th>\n",
       "      <th>title_length</th>\n",
       "      <th>text_length</th>\n",
       "    </tr>\n",
       "  </thead>\n",
       "  <tbody>\n",
       "    <tr>\n",
       "      <th>3</th>\n",
       "      <td>xn05d1</td>\n",
       "      <td>1</td>\n",
       "      <td>which movie character do you relate to the most</td>\n",
       "      <td></td>\n",
       "      <td>0</td>\n",
       "      <td>48</td>\n",
       "      <td>0</td>\n",
       "    </tr>\n",
       "    <tr>\n",
       "      <th>22</th>\n",
       "      <td>xu1zlr</td>\n",
       "      <td>1</td>\n",
       "      <td>what is the most toxic thing you have willingl...</td>\n",
       "      <td></td>\n",
       "      <td>0</td>\n",
       "      <td>66</td>\n",
       "      <td>0</td>\n",
       "    </tr>\n",
       "    <tr>\n",
       "      <th>26</th>\n",
       "      <td>xuzy8x</td>\n",
       "      <td>1</td>\n",
       "      <td>what s the worst job you ve ever worked</td>\n",
       "      <td></td>\n",
       "      <td>0</td>\n",
       "      <td>40</td>\n",
       "      <td>0</td>\n",
       "    </tr>\n",
       "    <tr>\n",
       "      <th>27</th>\n",
       "      <td>xrgot6</td>\n",
       "      <td>1</td>\n",
       "      <td>what is a shallow reason that would make you e...</td>\n",
       "      <td>weight gain  hair condition  skin condition  n...</td>\n",
       "      <td>0</td>\n",
       "      <td>64</td>\n",
       "      <td>69</td>\n",
       "    </tr>\n",
       "    <tr>\n",
       "      <th>56</th>\n",
       "      <td>xqq026</td>\n",
       "      <td>1</td>\n",
       "      <td>what are the best things you ve ever experienced</td>\n",
       "      <td>either physical or mental  genuine question</td>\n",
       "      <td>0</td>\n",
       "      <td>49</td>\n",
       "      <td>44</td>\n",
       "    </tr>\n",
       "    <tr>\n",
       "      <th>61</th>\n",
       "      <td>xbqh67</td>\n",
       "      <td>0</td>\n",
       "      <td>it s almost spooky season  what re you all goi...</td>\n",
       "      <td></td>\n",
       "      <td>1</td>\n",
       "      <td>79</td>\n",
       "      <td>0</td>\n",
       "    </tr>\n",
       "    <tr>\n",
       "      <th>81</th>\n",
       "      <td>xpbkur</td>\n",
       "      <td>1</td>\n",
       "      <td>what kind of pressure do you experience from p...</td>\n",
       "      <td></td>\n",
       "      <td>0</td>\n",
       "      <td>92</td>\n",
       "      <td>0</td>\n",
       "    </tr>\n",
       "    <tr>\n",
       "      <th>108</th>\n",
       "      <td>xv4dlk</td>\n",
       "      <td>1</td>\n",
       "      <td>why is it so hard to a beat porn addiction</td>\n",
       "      <td></td>\n",
       "      <td>0</td>\n",
       "      <td>43</td>\n",
       "      <td>0</td>\n",
       "    </tr>\n",
       "    <tr>\n",
       "      <th>115</th>\n",
       "      <td>xejaje</td>\n",
       "      <td>0</td>\n",
       "      <td>for those of you that like the colour  why pur...</td>\n",
       "      <td>for those of you that like the colour  why pur...</td>\n",
       "      <td>1</td>\n",
       "      <td>50</td>\n",
       "      <td>99</td>\n",
       "    </tr>\n",
       "    <tr>\n",
       "      <th>139</th>\n",
       "      <td>xnwork</td>\n",
       "      <td>1</td>\n",
       "      <td>what s a household task most people hate  but ...</td>\n",
       "      <td>mine is cutting the grass</td>\n",
       "      <td>0</td>\n",
       "      <td>63</td>\n",
       "      <td>25</td>\n",
       "    </tr>\n",
       "    <tr>\n",
       "      <th>142</th>\n",
       "      <td>xsy8ks</td>\n",
       "      <td>1</td>\n",
       "      <td>what were the worst classmates you had to deal...</td>\n",
       "      <td></td>\n",
       "      <td>0</td>\n",
       "      <td>62</td>\n",
       "      <td>0</td>\n",
       "    </tr>\n",
       "    <tr>\n",
       "      <th>161</th>\n",
       "      <td>xpg7l9</td>\n",
       "      <td>1</td>\n",
       "      <td>if money didn t matter  what would you do</td>\n",
       "      <td></td>\n",
       "      <td>0</td>\n",
       "      <td>42</td>\n",
       "      <td>0</td>\n",
       "    </tr>\n",
       "    <tr>\n",
       "      <th>163</th>\n",
       "      <td>xpnefi</td>\n",
       "      <td>1</td>\n",
       "      <td>what albums are in your current music rotation</td>\n",
       "      <td></td>\n",
       "      <td>0</td>\n",
       "      <td>47</td>\n",
       "      <td>0</td>\n",
       "    </tr>\n",
       "    <tr>\n",
       "      <th>171</th>\n",
       "      <td>x8fij1</td>\n",
       "      <td>0</td>\n",
       "      <td>what are you  good  at but embarrassed to admi...</td>\n",
       "      <td></td>\n",
       "      <td>1</td>\n",
       "      <td>65</td>\n",
       "      <td>0</td>\n",
       "    </tr>\n",
       "    <tr>\n",
       "      <th>244</th>\n",
       "      <td>xppod4</td>\n",
       "      <td>1</td>\n",
       "      <td>how do you get over her</td>\n",
       "      <td></td>\n",
       "      <td>0</td>\n",
       "      <td>23</td>\n",
       "      <td>0</td>\n",
       "    </tr>\n",
       "    <tr>\n",
       "      <th>280</th>\n",
       "      <td>xp2s2m</td>\n",
       "      <td>1</td>\n",
       "      <td>what was the most obvious sign that someone li...</td>\n",
       "      <td></td>\n",
       "      <td>0</td>\n",
       "      <td>84</td>\n",
       "      <td>0</td>\n",
       "    </tr>\n",
       "    <tr>\n",
       "      <th>286</th>\n",
       "      <td>xoavxp</td>\n",
       "      <td>1</td>\n",
       "      <td>former soldiers  how bad was the middle east</td>\n",
       "      <td></td>\n",
       "      <td>0</td>\n",
       "      <td>45</td>\n",
       "      <td>0</td>\n",
       "    </tr>\n",
       "    <tr>\n",
       "      <th>288</th>\n",
       "      <td>xnzka6</td>\n",
       "      <td>1</td>\n",
       "      <td>what is the purpose of life</td>\n",
       "      <td></td>\n",
       "      <td>0</td>\n",
       "      <td>28</td>\n",
       "      <td>0</td>\n",
       "    </tr>\n",
       "    <tr>\n",
       "      <th>313</th>\n",
       "      <td>xfkhnz</td>\n",
       "      <td>0</td>\n",
       "      <td>why did you buy a vibrator</td>\n",
       "      <td>you have the right to be satisfied  if you own...</td>\n",
       "      <td>1</td>\n",
       "      <td>27</td>\n",
       "      <td>136</td>\n",
       "    </tr>\n",
       "    <tr>\n",
       "      <th>315</th>\n",
       "      <td>xs7bt5</td>\n",
       "      <td>1</td>\n",
       "      <td>how do i post a question on here without it au...</td>\n",
       "      <td></td>\n",
       "      <td>0</td>\n",
       "      <td>88</td>\n",
       "      <td>0</td>\n",
       "    </tr>\n",
       "  </tbody>\n",
       "</table>\n",
       "</div>"
      ],
      "text/plain": [
       "      key_0  prediction                                              title  \\\n",
       "3    xn05d1           1   which movie character do you relate to the most    \n",
       "22   xu1zlr           1  what is the most toxic thing you have willingl...   \n",
       "26   xuzy8x           1           what s the worst job you ve ever worked    \n",
       "27   xrgot6           1  what is a shallow reason that would make you e...   \n",
       "56   xqq026           1  what are the best things you ve ever experienced    \n",
       "61   xbqh67           0  it s almost spooky season  what re you all goi...   \n",
       "81   xpbkur           1  what kind of pressure do you experience from p...   \n",
       "108  xv4dlk           1        why is it so hard to a beat porn addiction    \n",
       "115  xejaje           0  for those of you that like the colour  why pur...   \n",
       "139  xnwork           1  what s a household task most people hate  but ...   \n",
       "142  xsy8ks           1  what were the worst classmates you had to deal...   \n",
       "161  xpg7l9           1         if money didn t matter  what would you do    \n",
       "163  xpnefi           1    what albums are in your current music rotation    \n",
       "171  x8fij1           0  what are you  good  at but embarrassed to admi...   \n",
       "244  xppod4           1                            how do you get over her   \n",
       "280  xp2s2m           1  what was the most obvious sign that someone li...   \n",
       "286  xoavxp           1      former soldiers  how bad was the middle east    \n",
       "288  xnzka6           1                       what is the purpose of life    \n",
       "313  xfkhnz           0                        why did you buy a vibrator    \n",
       "315  xs7bt5           1  how do i post a question on here without it au...   \n",
       "\n",
       "                                                  text  subreddit  \\\n",
       "3                                                               0   \n",
       "22                                                              0   \n",
       "26                                                              0   \n",
       "27   weight gain  hair condition  skin condition  n...          0   \n",
       "56        either physical or mental  genuine question           0   \n",
       "61                                                              1   \n",
       "81                                                              0   \n",
       "108                                                             0   \n",
       "115  for those of you that like the colour  why pur...          1   \n",
       "139                          mine is cutting the grass          0   \n",
       "142                                                             0   \n",
       "161                                                             0   \n",
       "163                                                             0   \n",
       "171                                                             1   \n",
       "244                                                             0   \n",
       "280                                                             0   \n",
       "286                                                             0   \n",
       "288                                                             0   \n",
       "313  you have the right to be satisfied  if you own...          1   \n",
       "315                                                             0   \n",
       "\n",
       "     title_length  text_length  \n",
       "3              48            0  \n",
       "22             66            0  \n",
       "26             40            0  \n",
       "27             64           69  \n",
       "56             49           44  \n",
       "61             79            0  \n",
       "81             92            0  \n",
       "108            43            0  \n",
       "115            50           99  \n",
       "139            63           25  \n",
       "142            62            0  \n",
       "161            42            0  \n",
       "163            47            0  \n",
       "171            65            0  \n",
       "244            23            0  \n",
       "280            84            0  \n",
       "286            45            0  \n",
       "288            28            0  \n",
       "313            27          136  \n",
       "315            88            0  "
      ]
     },
     "execution_count": 26,
     "metadata": {},
     "output_type": "execute_result"
    }
   ],
   "source": [
    "no_key_words[:20]"
   ]
  },
  {
   "cell_type": "markdown",
   "id": "3d95f324-23cc-4ac6-bfe6-219f2b1b07b0",
   "metadata": {},
   "source": [
    "After examining a few of the questions that don't contain any of the top 15 or bottom 15 key words that correlate to posts by women or men a lot of the questions are gender neutral, which not even an a person would be able to identify who the target is."
   ]
  },
  {
   "cell_type": "markdown",
   "id": "85a09a03-8545-44d8-b038-bddd08f1e3fc",
   "metadata": {},
   "source": [
    "---"
   ]
  },
  {
   "cell_type": "markdown",
   "id": "711e7fac-2894-429c-a852-aafde0327dee",
   "metadata": {
    "tags": []
   },
   "source": [
    "# Extra Models"
   ]
  },
  {
   "cell_type": "markdown",
   "id": "9fc70727-ca09-459f-a2c5-049f330ee4e2",
   "metadata": {},
   "source": [
    "---"
   ]
  },
  {
   "cell_type": "markdown",
   "id": "b6b3cb25-37df-4709-bc84-60006eaa7784",
   "metadata": {
    "tags": []
   },
   "source": [
    "# Second Model with Decision Trees"
   ]
  },
  {
   "cell_type": "code",
   "execution_count": 27,
   "id": "0b5fab95-985c-440e-a3da-ab32f97c99f0",
   "metadata": {},
   "outputs": [],
   "source": [
    "dt_pipe_params = {\n",
    "    'cvec__max_features': range(3450,3500,10),\n",
    "    'cvec__stop_words': [None, 'english'],\n",
    "    'cvec__ngram_range': [(1,1), (1,2)],\n",
    "    'est__min_samples_split': range(30,33,1),\n",
    "    'est__min_samples_leaf': [1]\n",
    "}"
   ]
  },
  {
   "cell_type": "code",
   "execution_count": 28,
   "id": "33879c17-ee8f-45b0-ad78-cd7b0810ec7e",
   "metadata": {},
   "outputs": [
    {
     "name": "stdout",
     "output_type": "stream",
     "text": [
      "-----------------------------\n",
      "Best Score: 0.7440246166730027\n",
      "Best Params: {'cvec__max_features': 3470, 'cvec__ngram_range': (1, 1), 'cvec__stop_words': None, 'est__min_samples_leaf': 1, 'est__min_samples_split': 30}\n",
      "Training Accuracy: 0.9203187250996016\n",
      "Testing  Accuracy: 0.7333333333333333\n"
     ]
    }
   ],
   "source": [
    "dt_gs = train_run_evaluate_grid_on_model(dt_pipe_params, DecisionTreeClassifier(), X_train, X_test, y_train, y_test)"
   ]
  },
  {
   "cell_type": "markdown",
   "id": "c5f418e2-5c8f-4570-a886-8a4bdcdb645b",
   "metadata": {},
   "source": [
    "### OVERALL BEST PARAMETERS:\n",
    "\n",
    "- cvec__max_features: 3450 - 3500\n",
    "- cvec__ngram_range: (1,1)-(1,2)\n",
    "- cvec__stop_words: None\n",
    "- est__min_samples_leaf: 1\n",
    "- est__min_samples_split:30-33\n",
    "\n",
    "### Metrics\n",
    "\n",
    "- Accuracy around 74-76%"
   ]
  },
  {
   "cell_type": "code",
   "execution_count": 29,
   "id": "b1cf8552-1e4c-436a-9129-db1e5aafae0e",
   "metadata": {},
   "outputs": [],
   "source": [
    "dt_preds = dt_gs.predict(X_test)"
   ]
  },
  {
   "cell_type": "code",
   "execution_count": 30,
   "id": "d7689389-3d1b-478e-ae56-0a2ed2b228ae",
   "metadata": {},
   "outputs": [
    {
     "data": {
      "image/png": "[encoded data removed]",
      "text/plain": [
       "<Figure size 432x288 with 2 Axes>"
      ]
     },
     "metadata": {
      "needs_background": "light"
     },
     "output_type": "display_data"
    }
   ],
   "source": [
    "# Confusion matrix\n",
    "ConfusionMatrixDisplay.from_estimator(dt_gs, X_test, y_test, cmap='Blues')\n",
    "plt.rc('axes', titlesize=15) \n",
    "plt.rc('axes', labelsize=10) \n",
    "plt.title('Decision Trees Confusion Matrix')\n",
    "plt.tight_layout()\n",
    "plt.savefig('../Images/dt_confusion_matrix.png');"
   ]
  },
  {
   "cell_type": "code",
   "execution_count": 31,
   "id": "740ff0e1-a2a8-488f-9f6d-f964a5751370",
   "metadata": {},
   "outputs": [
    {
     "name": "stdout",
     "output_type": "stream",
     "text": [
      "Recall: 0.7623762376237624\n",
      "Precision: 0.7223264540337712\n"
     ]
    }
   ],
   "source": [
    "print(f'Recall: {recall_score(y_test, dt_preds)}')\n",
    "print(f'Precision: {precision_score(y_test, dt_preds)}')"
   ]
  },
  {
   "cell_type": "markdown",
   "id": "a1536d75-0269-4fb5-909e-315e79527935",
   "metadata": {},
   "source": [
    "- After optimizing on the parameters the Decision Tree performed worse in almost every category compared to the Logistic Regression model.\n",
    "- There is a far lower recall score in comparison to the Logistic Regression model"
   ]
  },
  {
   "cell_type": "markdown",
   "id": "1032f737-e0a0-4e8f-8a79-b975ef8f3ff5",
   "metadata": {},
   "source": [
    "---"
   ]
  },
  {
   "cell_type": "markdown",
   "id": "e5e656a2-1809-482c-802f-ea8bc1b8b277",
   "metadata": {},
   "source": [
    "# Third Model with RandomForest Classifier"
   ]
  },
  {
   "cell_type": "code",
   "execution_count": 32,
   "id": "36c07355-114e-475d-828a-29702d4594a0",
   "metadata": {},
   "outputs": [],
   "source": [
    "rfc_pipe_params = {\n",
    "    'cvec__max_features': range(3650, 3660,10),\n",
    "    'cvec__stop_words': [None],\n",
    "    'cvec__ngram_range': [(1,1), (1,2)],\n",
    "    'est__n_estimators':range(40, 46, 1),\n",
    "    'est__min_samples_split': range(30,40,2),\n",
    "    'est__min_samples_leaf': [1]\n",
    "}"
   ]
  },
  {
   "cell_type": "code",
   "execution_count": 33,
   "id": "d855ac08-af83-455d-987f-060b6ffc4aa9",
   "metadata": {},
   "outputs": [
    {
     "name": "stdout",
     "output_type": "stream",
     "text": [
      "-----------------------------\n",
      "Best Score: 0.7901748180470844\n",
      "Best Params: {'cvec__max_features': 3650, 'cvec__ngram_range': (1, 1), 'cvec__stop_words': None, 'est__min_samples_leaf': 1, 'est__min_samples_split': 32, 'est__n_estimators': 43}\n",
      "Training Accuracy: 0.9455511288180611\n",
      "Testing  Accuracy: 0.8059701492537313\n"
     ]
    }
   ],
   "source": [
    "rf_gs = train_run_evaluate_grid_on_model(rfc_pipe_params, RandomForestClassifier(), X_train, X_test, y_train, y_test)"
   ]
  },
  {
   "cell_type": "markdown",
   "id": "1cfefd1b-a758-4dab-8584-abd745655244",
   "metadata": {},
   "source": [
    "### OVERALL BEST PARAMETERS:\n",
    "\n",
    "- cvec__max_features: 3630 - 3650\n",
    "- cvec__ngram_range: (1,1)-(1,2)\n",
    "- cvec__stop_words: None\n",
    "- est__min_samples_leaf: 1\n",
    "- est__min_samples_split:38-40\n",
    "- est__n_estimators: 40-45\n",
    "\n",
    "### Metrics\n",
    "\n",
    "- Max Accuracy: 80%"
   ]
  },
  {
   "cell_type": "code",
   "execution_count": 34,
   "id": "091e7ca0-7eb7-4471-8f6c-a0b721b6226a",
   "metadata": {},
   "outputs": [
    {
     "data": {
      "image/png": "[encoded data removed]",
      "text/plain": [
       "<Figure size 432x288 with 2 Axes>"
      ]
     },
     "metadata": {
      "needs_background": "light"
     },
     "output_type": "display_data"
    }
   ],
   "source": [
    "# Confusion matrix\n",
    "\n",
    "ConfusionMatrixDisplay.from_estimator(rf_gs, X_test, y_test, cmap='Blues')\n",
    "plt.rc('axes', titlesize=15)\n",
    "plt.rc('axes', labelsize=10) \n",
    "\n",
    "plt.title('Random Forest Classifier Confusion Matrix')\n",
    "plt.tight_layout()\n",
    "plt.savefig('../Images/rfc_confusion_matrix.png');"
   ]
  },
  {
   "cell_type": "code",
   "execution_count": 35,
   "id": "93bbad24-c6a5-4f69-9a7a-8a36e564a2b6",
   "metadata": {},
   "outputs": [
    {
     "name": "stdout",
     "output_type": "stream",
     "text": [
      "Recall: 0.9188118811881189\n",
      "Precision: 0.7508090614886731\n"
     ]
    }
   ],
   "source": [
    "rf_preds = rf_gs.predict(X_test)\n",
    "print(f'Recall: {recall_score(y_test, rf_preds)}')\n",
    "print(f'Precision: {precision_score(y_test, rf_preds)}')"
   ]
  },
  {
   "cell_type": "markdown",
   "id": "0059d368-6cb2-4abf-9c2f-2b72bd569f41",
   "metadata": {},
   "source": [
    "- Althought this model had the highest metrics, since its an ensemble model it doesn't have the interpretability that DecisionTrees and Logistic Regression have. If the model had performed better by a sizeable amount there could have been consideration in using it over LogisticRegression.\n"
   ]
  },
  {
   "cell_type": "markdown",
   "id": "aef8c6f7-842a-449c-8d43-7e5a1f2468db",
   "metadata": {},
   "source": [
    "---"
   ]
  }
 ],
 "metadata": {
  "kernelspec": {
   "display_name": "Python 3 (ipykernel)",
   "language": "python",
   "name": "python3"
  },
  "language_info": {
   "codemirror_mode": {
    "name": "ipython",
    "version": 3
   },
   "file_extension": ".py",
   "mimetype": "text/x-python",
   "name": "python",
   "nbconvert_exporter": "python",
   "pygments_lexer": "ipython3",
   "version": "3.9.12"
  }
 },
 "nbformat": 4,
 "nbformat_minor": 5
}
